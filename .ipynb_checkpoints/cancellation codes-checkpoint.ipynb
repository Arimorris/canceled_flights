{
 "cells": [
  {
   "cell_type": "code",
   "execution_count": 8,
   "metadata": {},
   "outputs": [],
   "source": [
    "import pandas as pd\n",
    "import numpy as np\n",
    "import os\n",
    "import pickle\n",
    "import math"
   ]
  },
  {
   "cell_type": "code",
   "execution_count": 74,
   "metadata": {},
   "outputs": [],
   "source": [
    "cwd = os.getcwd()\n",
    "cancel = pd.read_csv(cwd + '/cancel.csv')"
   ]
  },
  {
   "cell_type": "markdown",
   "metadata": {},
   "source": [
    "\"A\" = \"Carrier\" <br> \n",
    "> The cause of the cancellation or delay was due to circumstances within the airline's control (e.g. maintenance or crew problems, etc.).<br>\n",
    "\n",
    "\"B\" = \"Weather\" <br> \n",
    "> Significant meteorological conditions (actual or forecasted) that, in the judgment of the carrier, delays or prevents the operation of a flight such as tornado, blizzard or hurricane.<br>\n",
    "\n",
    "\"C\" = \"National Air System\" <br>\n",
    "> Cancellations attributable to the national aviation system that refer to a broad set of conditions, such as non-extreme weather conditions, airport operations, heavy traffic volume, and air traffic control.<br>\n",
    "\n",
    "\"D\" = \"Security\" <br>\n",
    "> Cancellations caused by evacuation of a terminal or concourse, re-boarding of aircraft because of security breach, inoperative screening equipment and/or long lines in excess of 29 minutes at screening areas.<br>"
   ]
  },
  {
   "cell_type": "code",
   "execution_count": 3,
   "metadata": {},
   "outputs": [],
   "source": [
    "# cancel['Freq'] = cancel.groupby(['ORIGIN'])['OP_UNIQUE_CARRIER'].transform('count')"
   ]
  },
  {
   "cell_type": "code",
   "execution_count": 75,
   "metadata": {},
   "outputs": [],
   "source": [
    "dept = cancel['CRS_DEP_TIME'].apply(lambda x: round(x/100,2))\n",
    "\n",
    "pos = 0\n",
    "for d in dept:\n",
    "    dec = (math.modf(d))\n",
    "    if round(dec[0], 2) >= .29:\n",
    "        dept[pos] = int(dept[pos]) +1\n",
    "        if dept[pos] == 24:\n",
    "            dept[pos] = 0\n",
    "    else:\n",
    "        dept[pos] = dept[pos]\n",
    "    pos +=1\n",
    "   \n",
    "\n",
    "cancel['HOUR'] = dept.astype(int)"
   ]
  },
  {
   "cell_type": "code",
   "execution_count": 80,
   "metadata": {},
   "outputs": [],
   "source": [
    "D = cancel[cancel['CANCELLATION_CODE'] == 'D']\n",
    "\n",
    "# cancel = cancel[cancel['Freq'] > 10] \n",
    "#removed any airport used less than 10 times within the year\n",
    "# excpet for D bec so few security problems\n",
    "# went from 110320 rows to 109983 rows\n",
    "A = cancel[cancel['CANCELLATION_CODE'] == 'A']\n",
    "B = cancel[cancel['CANCELLATION_CODE'] == 'B']\n",
    "C = cancel[cancel['CANCELLATION_CODE'] == 'C']"
   ]
  },
  {
   "cell_type": "markdown",
   "metadata": {},
   "source": [
    "## CODE: A (Carrier)"
   ]
  },
  {
   "cell_type": "code",
   "execution_count": 94,
   "metadata": {},
   "outputs": [],
   "source": [
    "# A has 28085 rows\n",
    "# 273 unique airports"
   ]
  },
  {
   "cell_type": "code",
   "execution_count": 5,
   "metadata": {},
   "outputs": [
    {
     "data": {
      "text/plain": [
       "N719EV    66\n",
       "N738EV    60\n",
       "N226JS    52\n",
       "N248PS    51\n",
       "N603QX    49\n",
       "N244PS    48\n",
       "N250PS    48\n",
       "N258PS    48\n",
       "N251PS    47\n",
       "N617QX    47\n",
       "N600QX    45\n",
       "N611QX    44\n",
       "N230PS    42\n",
       "N720EV    42\n",
       "N223JS    41\n",
       "Name: TAIL_NUM, dtype: int64"
      ]
     },
     "execution_count": 5,
     "metadata": {},
     "output_type": "execute_result"
    }
   ],
   "source": [
    "#certain planes that might be more prone to canceltaion\n",
    "A['TAIL_NUM'].value_counts()[:15]"
   ]
  },
  {
   "cell_type": "code",
   "execution_count": 11,
   "metadata": {},
   "outputs": [
    {
     "data": {
      "text/plain": [
       "WN    5372\n",
       "OH    4425\n",
       "AA    4176\n",
       "YV    2216\n",
       "YX    1663\n",
       "MQ    1519\n",
       "F9    1476\n",
       "B6    1377\n",
       "EV    1195\n",
       "AS     985\n",
       "UA     891\n",
       "OO     772\n",
       "DL     565\n",
       "G4     396\n",
       "NK     331\n",
       "9E     314\n",
       "HA     256\n",
       "VX     224\n",
       "Name: OP_UNIQUE_CARRIER, dtype: int64"
      ]
     },
     "execution_count": 11,
     "metadata": {},
     "output_type": "execute_result"
    }
   ],
   "source": [
    "A['OP_UNIQUE_CARRIER'].value_counts()"
   ]
  },
  {
   "cell_type": "code",
   "execution_count": 9,
   "metadata": {
    "scrolled": true
   },
   "outputs": [
    {
     "data": {
      "text/plain": [
       "6     5959\n",
       "7     3391\n",
       "8     3094\n",
       "3     2348\n",
       "1     2318\n",
       "5     2201\n",
       "9     1881\n",
       "4     1867\n",
       "2     1726\n",
       "10    1638\n",
       "12     990\n",
       "11     672\n",
       "Name: MONTH, dtype: int64"
      ]
     },
     "execution_count": 9,
     "metadata": {},
     "output_type": "execute_result"
    }
   ],
   "source": [
    "A['MONTH'].value_counts()"
   ]
  },
  {
   "cell_type": "code",
   "execution_count": 15,
   "metadata": {
    "scrolled": true
   },
   "outputs": [
    {
     "data": {
      "text/plain": [
       "CLT    1939\n",
       "DFW    1406\n",
       "LAX    1034\n",
       "LGA     975\n",
       "ORD     815\n",
       "Name: ORIGIN, dtype: int64"
      ]
     },
     "execution_count": 15,
     "metadata": {},
     "output_type": "execute_result"
    }
   ],
   "source": [
    "A['ORIGIN'].value_counts()[:5]"
   ]
  },
  {
   "cell_type": "code",
   "execution_count": 16,
   "metadata": {
    "scrolled": false
   },
   "outputs": [
    {
     "data": {
      "text/plain": [
       "CLT    2388\n",
       "DFW    1740\n",
       "LAX    1068\n",
       "ORD    1025\n",
       "LGA    1008\n",
       "Name: DEST, dtype: int64"
      ]
     },
     "execution_count": 16,
     "metadata": {},
     "output_type": "execute_result"
    }
   ],
   "source": [
    "A['DEST'].value_counts()[:5]"
   ]
  },
  {
   "cell_type": "code",
   "execution_count": 31,
   "metadata": {},
   "outputs": [
    {
     "data": {
      "text/plain": [
       "6.0     2036\n",
       "7.0     1963\n",
       "8.0     1884\n",
       "18.0    1756\n",
       "9.0     1717\n",
       "12.0    1715\n",
       "15.0    1639\n",
       "17.0    1631\n",
       "11.0    1611\n",
       "10.0    1585\n",
       "13.0    1568\n",
       "19.0    1529\n",
       "16.0    1524\n",
       "20.0    1510\n",
       "14.0    1507\n",
       "22.0     964\n",
       "21.0     949\n",
       "23.0     440\n",
       "5.0      389\n",
       "24.0     103\n",
       "1.0       68\n",
       "0.0       24\n",
       "2.0       15\n",
       "3.0       14\n",
       "4.0       12\n",
       "Name: HOUR, dtype: int64"
      ]
     },
     "execution_count": 31,
     "metadata": {},
     "output_type": "execute_result"
    }
   ],
   "source": [
    "A['HOUR'].value_counts()"
   ]
  },
  {
   "cell_type": "code",
   "execution_count": 123,
   "metadata": {},
   "outputs": [],
   "source": [
    "# get frequency of canceled airline and airport combo\n",
    "J = A.groupby(['OP_UNIQUE_CARRIER', 'ORIGIN']).size()\n",
    "aline = A['OP_UNIQUE_CARRIER'].unique()\n",
    "aport = A['ORIGIN'].unique()"
   ]
  },
  {
   "cell_type": "code",
   "execution_count": 6,
   "metadata": {},
   "outputs": [],
   "source": [
    "a_combo = []\n",
    "for l in aline:\n",
    "    for a in aport:\n",
    "        if a in J[l]:\n",
    "            if J[l][a] > 100:\n",
    "                a_combo.append([J[l][a], l, a])"
   ]
  },
  {
   "cell_type": "code",
   "execution_count": 15,
   "metadata": {},
   "outputs": [],
   "source": [
    "worst_a_line_port = sorted(a_combo, reverse=True)"
   ]
  },
  {
   "cell_type": "code",
   "execution_count": 16,
   "metadata": {},
   "outputs": [
    {
     "data": {
      "text/plain": [
       "[[1363, 'OH', 'CLT'],\n",
       " [572, 'WN', 'LAX'],\n",
       " [498, 'AA', 'DFW'],\n",
       " [495, 'YV', 'DFW'],\n",
       " [434, 'WN', 'OAK']]"
      ]
     },
     "execution_count": 16,
     "metadata": {},
     "output_type": "execute_result"
    }
   ],
   "source": [
    "worst_a_line_port[:5] "
   ]
  },
  {
   "cell_type": "code",
   "execution_count": 121,
   "metadata": {},
   "outputs": [],
   "source": [
    "# get frequency of canceled airline, airport and month combo\n",
    "M = A.groupby(['OP_UNIQUE_CARRIER', 'ORIGIN', 'MONTH']).size()"
   ]
  },
  {
   "cell_type": "code",
   "execution_count": 124,
   "metadata": {},
   "outputs": [],
   "source": [
    "a_trio = []\n",
    "for l in aline:\n",
    "    for a in aport:\n",
    "        if a in M[l]:\n",
    "            for m in range(1,13):\n",
    "                if m in M[l][a]:\n",
    "                    if M[l][a][m] > 50:\n",
    "                        a_trio.append([M[l][a][m], l, a, m])"
   ]
  },
  {
   "cell_type": "code",
   "execution_count": 125,
   "metadata": {},
   "outputs": [],
   "source": [
    "worst_a_line_port_month = sorted(a_trio, reverse=True)"
   ]
  },
  {
   "cell_type": "code",
   "execution_count": 126,
   "metadata": {},
   "outputs": [
    {
     "data": {
      "text/plain": [
       "[[1161, 'OH', 'CLT', 6],\n",
       " [180, 'OH', 'DCA', 6],\n",
       " [147, 'AA', 'DFW', 6],\n",
       " [131, 'OH', 'PHL', 6],\n",
       " [113, 'YX', 'LGA', 3]]"
      ]
     },
     "execution_count": 126,
     "metadata": {},
     "output_type": "execute_result"
    }
   ],
   "source": [
    "worst_a_line_port_month[:5] "
   ]
  },
  {
   "cell_type": "code",
   "execution_count": null,
   "metadata": {},
   "outputs": [],
   "source": [
    "# giant glitch with computer sytem and PSA airlines ('OH' a subsidiary of 'AA') during June\n",
    "# mainly in Charlotte, this skewed a lot of data for cancellation"
   ]
  },
  {
   "cell_type": "markdown",
   "metadata": {},
   "source": [
    "## CODE: B (Weather)"
   ]
  },
  {
   "cell_type": "code",
   "execution_count": null,
   "metadata": {},
   "outputs": [],
   "source": [
    "# 57756\n",
    "# 338 airports from"
   ]
  },
  {
   "cell_type": "code",
   "execution_count": 41,
   "metadata": {},
   "outputs": [
    {
     "data": {
      "text/plain": [
       "0.673142184361798"
      ]
     },
     "execution_count": 41,
     "metadata": {},
     "output_type": "execute_result"
    }
   ],
   "source": [
    "38878/57756"
   ]
  },
  {
   "cell_type": "code",
   "execution_count": 39,
   "metadata": {},
   "outputs": [
    {
     "data": {
      "text/plain": [
       "3     13566\n",
       "1     12656\n",
       "2      5753\n",
       "9      4609\n",
       "7      3479\n",
       "4      3233\n",
       "5      3217\n",
       "8      3159\n",
       "12     2947\n",
       "6      2486\n",
       "10     2147\n",
       "11      504\n",
       "Name: MONTH, dtype: int64"
      ]
     },
     "execution_count": 39,
     "metadata": {},
     "output_type": "execute_result"
    }
   ],
   "source": [
    "B['MONTH'].value_counts()\n",
    "# About 67% of weather cancellations happened within the first three months of the year\n",
    "# showing winter is the strongest factor for these cancellations"
   ]
  },
  {
   "cell_type": "code",
   "execution_count": 37,
   "metadata": {
    "scrolled": true
   },
   "outputs": [
    {
     "data": {
      "text/plain": [
       "WN    9774\n",
       "AA    8535\n",
       "OO    7760\n",
       "OH    5362\n",
       "YX    4813\n",
       "DL    3864\n",
       "B6    3601\n",
       "UA    3265\n",
       "MQ    2204\n",
       "YV    2105\n",
       "9E    2009\n",
       "EV    1389\n",
       "NK    1289\n",
       "F9     752\n",
       "AS     576\n",
       "G4     243\n",
       "VX     201\n",
       "HA      14\n",
       "Name: OP_UNIQUE_CARRIER, dtype: int64"
      ]
     },
     "execution_count": 37,
     "metadata": {},
     "output_type": "execute_result"
    }
   ],
   "source": [
    "B['OP_UNIQUE_CARRIER'].value_counts()"
   ]
  },
  {
   "cell_type": "code",
   "execution_count": 9,
   "metadata": {
    "scrolled": true
   },
   "outputs": [
    {
     "data": {
      "text/plain": [
       "ORD    3295\n",
       "LGA    3029\n",
       "CLT    2869\n",
       "DFW    2592\n",
       "BOS    2393\n",
       "ATL    2327\n",
       "EWR    2181\n",
       "DCA    2046\n",
       "PHL    1857\n",
       "MDW    1558\n",
       "Name: ORIGIN, dtype: int64"
      ]
     },
     "execution_count": 9,
     "metadata": {},
     "output_type": "execute_result"
    }
   ],
   "source": [
    "B['ORIGIN'].value_counts()[:10]"
   ]
  },
  {
   "cell_type": "code",
   "execution_count": 81,
   "metadata": {},
   "outputs": [
    {
     "data": {
      "text/plain": [
       "18    4825\n",
       "20    4164\n",
       "19    4011\n",
       "6     3918\n",
       "17    3896\n",
       "16    3509\n",
       "15    3383\n",
       "7     3365\n",
       "13    3018\n",
       "8     3014\n",
       "14    2899\n",
       "9     2833\n",
       "12    2816\n",
       "11    2795\n",
       "10    2643\n",
       "21    2632\n",
       "22    2286\n",
       "23     919\n",
       "5      567\n",
       "0      177\n",
       "1       58\n",
       "3       11\n",
       "4       10\n",
       "2        7\n",
       "Name: HOUR, dtype: int64"
      ]
     },
     "execution_count": 81,
     "metadata": {},
     "output_type": "execute_result"
    }
   ],
   "source": [
    "B['HOUR'].value_counts()"
   ]
  },
  {
   "cell_type": "code",
   "execution_count": 12,
   "metadata": {},
   "outputs": [
    {
     "data": {
      "text/plain": [
       "ORD    3442\n",
       "CLT    2963\n",
       "LGA    2929\n",
       "DFW    2661\n",
       "ATL    2400\n",
       "BOS    2345\n",
       "EWR    2211\n",
       "DCA    1961\n",
       "PHL    1857\n",
       "JFK    1535\n",
       "Name: DEST, dtype: int64"
      ]
     },
     "execution_count": 12,
     "metadata": {},
     "output_type": "execute_result"
    }
   ],
   "source": [
    "B['DEST'].value_counts()[:10]"
   ]
  },
  {
   "cell_type": "code",
   "execution_count": 11,
   "metadata": {},
   "outputs": [
    {
     "data": {
      "text/plain": [
       "Chicago, IL              4853\n",
       "New York, NY             4548\n",
       "Charlotte, NC            2869\n",
       "Dallas/Fort Worth, TX    2592\n",
       "Washington, DC           2535\n",
       "Boston, MA               2393\n",
       "Atlanta, GA              2327\n",
       "Newark, NJ               2181\n",
       "Philadelphia, PA         1857\n",
       "Minneapolis, MN          1312\n",
       "Name: ORIGIN_CITY_NAME, dtype: int64"
      ]
     },
     "execution_count": 11,
     "metadata": {},
     "output_type": "execute_result"
    }
   ],
   "source": [
    "B['ORIGIN_CITY_NAME'].value_counts()[:10]"
   ]
  },
  {
   "cell_type": "code",
   "execution_count": 31,
   "metadata": {
    "scrolled": true
   },
   "outputs": [
    {
     "data": {
      "text/plain": [
       "Chicago, IL              4971\n",
       "New York, NY             4464\n",
       "Charlotte, NC            2963\n",
       "Dallas/Fort Worth, TX    2661\n",
       "Washington, DC           2457\n",
       "Atlanta, GA              2400\n",
       "Boston, MA               2345\n",
       "Newark, NJ               2211\n",
       "Philadelphia, PA         1857\n",
       "Houston, TX              1360\n",
       "Name: DEST_CITY_NAME, dtype: int64"
      ]
     },
     "execution_count": 31,
     "metadata": {},
     "output_type": "execute_result"
    }
   ],
   "source": [
    "B['DEST_CITY_NAME'].value_counts()[:10]"
   ]
  },
  {
   "cell_type": "code",
   "execution_count": 43,
   "metadata": {},
   "outputs": [],
   "source": [
    "not_cold = B[(B['ORIGIN_CITY_NAME'] != 'Chicago, IL') &(B['ORIGIN_CITY_NAME'] != 'New York, NY')\\\n",
    "             & (B['DEST_CITY_NAME'] !='Chicago, IL')&(B['DEST_CITY_NAME'] !='New York, NY')]"
   ]
  },
  {
   "cell_type": "code",
   "execution_count": 90,
   "metadata": {},
   "outputs": [],
   "source": [
    "city = B.reindex(columns= (['ORIGIN_CITY_NAME', 'DEST_CITY_NAME']))"
   ]
  },
  {
   "cell_type": "code",
   "execution_count": 91,
   "metadata": {},
   "outputs": [],
   "source": [
    "cities = city.melt()['value'].value_counts()"
   ]
  },
  {
   "cell_type": "code",
   "execution_count": 113,
   "metadata": {},
   "outputs": [
    {
     "data": {
      "text/plain": [
       "Chicago, IL              9824\n",
       "New York, NY             9012\n",
       "Charlotte, NC            5832\n",
       "Dallas/Fort Worth, TX    5253\n",
       "Washington, DC           4992\n",
       "Boston, MA               4738\n",
       "Atlanta, GA              4727\n",
       "Newark, NJ               4392\n",
       "Philadelphia, PA         3714\n",
       "Houston, TX              2663\n",
       "Name: value, dtype: int64"
      ]
     },
     "execution_count": 113,
     "metadata": {},
     "output_type": "execute_result"
    }
   ],
   "source": [
    "cities[:10]"
   ]
  },
  {
   "cell_type": "code",
   "execution_count": null,
   "metadata": {},
   "outputs": [],
   "source": [
    "# 31% of cancellations involved Chicago or New York"
   ]
  },
  {
   "cell_type": "code",
   "execution_count": 92,
   "metadata": {},
   "outputs": [],
   "source": [
    "used_city = cities.where(cities > 50).dropna().index.tolist()"
   ]
  },
  {
   "cell_type": "code",
   "execution_count": 89,
   "metadata": {},
   "outputs": [],
   "source": [
    "Weather = B.groupby(['ORIGIN_CITY_NAME', 'DEST_CITY_NAME', 'MONTH']).size()\n",
    "# B origin\n",
    "borg = B['ORIGIN_CITY_NAME'].unique()\n",
    "# B Destinations\n",
    "bdest = B['DEST_CITY_NAME'].unique()"
   ]
  },
  {
   "cell_type": "code",
   "execution_count": 141,
   "metadata": {},
   "outputs": [],
   "source": [
    "b_trio = []\n",
    "for o in borg:\n",
    "    if o in used_city:\n",
    "        for d in bdest:\n",
    "            if (d in used_city) & (d in Weather[o]):\n",
    "                for m in range(1,13):\n",
    "                    if m in Weather[o][d]:\n",
    "                        if Weather[o][d][m] > 50:\n",
    "                            b_trio.append([Weather[o][d][m], o, d, m])"
   ]
  },
  {
   "cell_type": "code",
   "execution_count": 142,
   "metadata": {},
   "outputs": [
    {
     "data": {
      "text/plain": [
       "[[186, 'Boston, MA', 'New York, NY', 3],\n",
       " [180, 'New York, NY', 'Boston, MA', 3],\n",
       " [145, 'New York, NY', 'Chicago, IL', 3],\n",
       " [133, 'Chicago, IL', 'New York, NY', 3],\n",
       " [114, 'Washington, DC', 'Boston, MA', 3],\n",
       " [114, 'Boston, MA', 'Washington, DC', 3],\n",
       " [113, 'New York, NY', 'Washington, DC', 3],\n",
       " [109, 'Washington, DC', 'New York, NY', 3],\n",
       " [82, 'New York, NY', 'Atlanta, GA', 3],\n",
       " [81, 'New York, NY', 'Chicago, IL', 1],\n",
       " [76, 'Chicago, IL', 'New York, NY', 1],\n",
       " [76, 'Atlanta, GA', 'New York, NY', 3],\n",
       " [71, 'New York, NY', 'Boston, MA', 1],\n",
       " [70, 'Charlotte, NC', 'New York, NY', 3],\n",
       " [69, 'Boston, MA', 'New York, NY', 1],\n",
       " [68, 'New York, NY', 'Miami, FL', 3],\n",
       " [67, 'Philadelphia, PA', 'Boston, MA', 3],\n",
       " [67, 'New York, NY', 'Charlotte, NC', 3],\n",
       " [67, 'Boston, MA', 'Philadelphia, PA', 3],\n",
       " [66, 'Boston, MA', 'Baltimore, MD', 3],\n",
       " [62, 'Miami, FL', 'New York, NY', 3],\n",
       " [62, 'Baltimore, MD', 'Boston, MA', 3],\n",
       " [59, 'Boston, MA', 'Chicago, IL', 3],\n",
       " [58, 'New York, NY', 'Dallas/Fort Worth, TX', 3],\n",
       " [58, 'New York, NY', 'Chicago, IL', 2],\n",
       " [58, 'Boston, MA', 'Newark, NJ', 3],\n",
       " [57, 'Newark, NJ', 'Boston, MA', 3],\n",
       " [57, 'Chicago, IL', 'Boston, MA', 3],\n",
       " [55, 'New York, NY', 'Charlotte, NC', 1],\n",
       " [55, 'New York, NY', 'Atlanta, GA', 1],\n",
       " [55, 'Chicago, IL', 'New York, NY', 2],\n",
       " [54, 'Orlando, FL', 'New York, NY', 3],\n",
       " [53, 'New York, NY', 'Los Angeles, CA', 3],\n",
       " [53, 'Fort Lauderdale, FL', 'New York, NY', 3],\n",
       " [53, 'Dallas/Fort Worth, TX', 'New York, NY', 3],\n",
       " [53, 'Atlanta, GA', 'New York, NY', 1],\n",
       " [52, 'New York, NY', 'Orlando, FL', 3],\n",
       " [52, 'New York, NY', 'Fort Lauderdale, FL', 3],\n",
       " [52, 'Charlotte, NC', 'New York, NY', 1],\n",
       " [51, 'Los Angeles, CA', 'New York, NY', 3],\n",
       " [51, 'Chicago, IL', 'New York, NY', 8]]"
      ]
     },
     "execution_count": 142,
     "metadata": {},
     "output_type": "execute_result"
    }
   ],
   "source": [
    "sorted(b_trio, reverse=True)"
   ]
  },
  {
   "cell_type": "code",
   "execution_count": null,
   "metadata": {},
   "outputs": [],
   "source": [
    "# majority frequent weather cancellations involved New York or Chicago (all cancellations if include Boston)\n",
    "# all frequent destination/origin cancellations happened in Jan, Feb, or March (with majority coming in March and only one in anohter month)\n",
    "# be especially weary of any BOS-NY or NY-CHI combinations during the winter"
   ]
  },
  {
   "cell_type": "code",
   "execution_count": 103,
   "metadata": {},
   "outputs": [],
   "source": [
    "# get frequency of canceled origin, month, hour combo\n",
    "w_hour = B.groupby(['MONTH', 'HOUR','ORIGIN']).size()\n",
    "\n",
    "org = B['ORIGIN'].unique()"
   ]
  },
  {
   "cell_type": "code",
   "execution_count": 116,
   "metadata": {},
   "outputs": [],
   "source": [
    "b_hr= []\n",
    "for m in range(1,13):\n",
    "    for h in range(24):\n",
    "        if h in w_hour[m]:\n",
    "            for o in org:\n",
    "                if o in w_hour[m][h]:\n",
    "                    if w_hour[m][h][o] >= 75:\n",
    "                        b_hr.append([w_hour[m][h][o], o, m, h])\n"
   ]
  },
  {
   "cell_type": "code",
   "execution_count": 117,
   "metadata": {
    "scrolled": false
   },
   "outputs": [
    {
     "data": {
      "text/plain": [
       "[[145, 'PHL', 3, 18],\n",
       " [131, 'BOS', 3, 6],\n",
       " [122, 'BOS', 3, 7],\n",
       " [100, 'DFW', 9, 19],\n",
       " [95, 'PHL', 3, 16],\n",
       " [92, 'BOS', 3, 8],\n",
       " [90, 'DCA', 3, 20],\n",
       " [89, 'BOS', 1, 7],\n",
       " [87, 'LGA', 3, 9],\n",
       " [86, 'LGA', 3, 15],\n",
       " [86, 'DFW', 9, 21],\n",
       " [82, 'PHL', 3, 11],\n",
       " [82, 'ORD', 5, 20],\n",
       " [82, 'LGA', 3, 10],\n",
       " [81, 'CLT', 1, 20],\n",
       " [80, 'LGA', 3, 20],\n",
       " [80, 'CLT', 1, 18],\n",
       " [80, 'ATL', 12, 20],\n",
       " [79, 'BOS', 3, 18],\n",
       " [78, 'DCA', 3, 17],\n",
       " [78, 'BOS', 3, 19],\n",
       " [77, 'PHL', 3, 13],\n",
       " [77, 'ORD', 2, 17],\n",
       " [77, 'LGA', 3, 19],\n",
       " [77, 'CLT', 9, 8],\n",
       " [76, 'DCA', 3, 15],\n",
       " [75, 'LGA', 3, 7]]"
      ]
     },
     "execution_count": 117,
     "metadata": {},
     "output_type": "execute_result"
    }
   ],
   "source": [
    "sorted(b_hr, reverse=True)"
   ]
  },
  {
   "cell_type": "markdown",
   "metadata": {},
   "source": [
    "## CODE: C (National Air System)"
   ]
  },
  {
   "cell_type": "code",
   "execution_count": null,
   "metadata": {},
   "outputs": [],
   "source": [
    "# 24338 rows\n",
    "# 269 airports"
   ]
  },
  {
   "cell_type": "code",
   "execution_count": 165,
   "metadata": {
    "scrolled": false
   },
   "outputs": [
    {
     "data": {
      "text/plain": [
       "New York, NY             3992\n",
       "Chicago, IL              2216\n",
       "Newark, NJ               1415\n",
       "Washington, DC            997\n",
       "Atlanta, GA               896\n",
       "Boston, MA                743\n",
       "San Francisco, CA         719\n",
       "Baltimore, MD             707\n",
       "Dallas/Fort Worth, TX     637\n",
       "Philadelphia, PA          573\n",
       "Name: ORIGIN_CITY_NAME, dtype: int64"
      ]
     },
     "execution_count": 165,
     "metadata": {},
     "output_type": "execute_result"
    }
   ],
   "source": [
    "C['ORIGIN_CITY_NAME'].value_counts()[:10]"
   ]
  },
  {
   "cell_type": "code",
   "execution_count": 174,
   "metadata": {},
   "outputs": [
    {
     "data": {
      "text/plain": [
       "LGA    2618\n",
       "ORD    2049\n",
       "EWR    1415\n",
       "JFK    1374\n",
       "ATL     896\n",
       "DCA     837\n",
       "BOS     743\n",
       "SFO     719\n",
       "BWI     707\n",
       "DFW     637\n",
       "Name: ORIGIN, dtype: int64"
      ]
     },
     "execution_count": 174,
     "metadata": {},
     "output_type": "execute_result"
    }
   ],
   "source": [
    "C['ORIGIN'].value_counts()[:10]"
   ]
  },
  {
   "cell_type": "code",
   "execution_count": 166,
   "metadata": {},
   "outputs": [
    {
     "data": {
      "text/plain": [
       "MQ    5581\n",
       "9E    3661\n",
       "YX    2823\n",
       "WN    2792\n",
       "EV    2464\n",
       "OO    1674\n",
       "B6    1311\n",
       "DL    1082\n",
       "AA     721\n",
       "OH     704\n",
       "YV     549\n",
       "AS     403\n",
       "NK     217\n",
       "UA     217\n",
       "VX     106\n",
       "G4      33\n",
       "Name: OP_UNIQUE_CARRIER, dtype: int64"
      ]
     },
     "execution_count": 166,
     "metadata": {},
     "output_type": "execute_result"
    }
   ],
   "source": [
    "C['OP_UNIQUE_CARRIER'].value_counts()"
   ]
  },
  {
   "cell_type": "code",
   "execution_count": 178,
   "metadata": {
    "scrolled": true
   },
   "outputs": [
    {
     "data": {
      "text/plain": [
       "8     6094\n",
       "7     4204\n",
       "6     2238\n",
       "1     2189\n",
       "5     1734\n",
       "9     1606\n",
       "2     1486\n",
       "12    1380\n",
       "3     1358\n",
       "4     1144\n",
       "10     697\n",
       "11     208\n",
       "Name: MONTH, dtype: int64"
      ]
     },
     "execution_count": 178,
     "metadata": {},
     "output_type": "execute_result"
    }
   ],
   "source": [
    "C['MONTH'].value_counts()\n",
    "# about 50% of the C cancellations were in the summer"
   ]
  },
  {
   "cell_type": "code",
   "execution_count": 127,
   "metadata": {},
   "outputs": [],
   "source": [
    "NAS = C.groupby(['OP_UNIQUE_CARRIER','ORIGIN','MONTH']).size()\n",
    "# B origin\n",
    "ccar = C['OP_UNIQUE_CARRIER'].unique()\n",
    "# B Destinations\n",
    "cport = C['ORIGIN'].unique()"
   ]
  },
  {
   "cell_type": "code",
   "execution_count": 149,
   "metadata": {},
   "outputs": [],
   "source": [
    "port = C['ORIGIN'].value_counts()\n",
    "port = port[port > 10].dropna()"
   ]
  },
  {
   "cell_type": "code",
   "execution_count": 151,
   "metadata": {},
   "outputs": [],
   "source": [
    "c_trio = []\n",
    "for l in ccar:\n",
    "    for a in cport:\n",
    "        if (a in port) & (a in NAS[l]):\n",
    "            for m in range(1,13):\n",
    "                if m in NAS[l][a]:\n",
    "                    if NAS[l][a][m] > 50:\n",
    "                        c_trio.append([NAS[l][a][m], l, a, m])"
   ]
  },
  {
   "cell_type": "code",
   "execution_count": 153,
   "metadata": {},
   "outputs": [],
   "source": [
    "NAS_port_month =sorted(c_trio, reverse=True)"
   ]
  },
  {
   "cell_type": "code",
   "execution_count": 154,
   "metadata": {
    "scrolled": false
   },
   "outputs": [
    {
     "data": {
      "text/plain": [
       "[[446, 'DL', 'ATL', 12],\n",
       " [310, 'MQ', 'ORD', 6],\n",
       " [257, '9E', 'LGA', 8],\n",
       " [251, 'YX', 'LGA', 8],\n",
       " [233, 'WN', 'BWI', 7],\n",
       " [218, '9E', 'JFK', 8],\n",
       " [213, 'MQ', 'ORD', 2],\n",
       " [202, 'EV', 'EWR', 8],\n",
       " [192, 'MQ', 'ORD', 8],\n",
       " [192, '9E', 'JFK', 1]]"
      ]
     },
     "execution_count": 154,
     "metadata": {},
     "output_type": "execute_result"
    }
   ],
   "source": [
    "NAS_port_month[:10]"
   ]
  },
  {
   "cell_type": "code",
   "execution_count": 133,
   "metadata": {},
   "outputs": [],
   "source": [
    "dest_port = C['DEST'].value_counts()\n",
    "arr = dest_port[dest_port > 50].dropna()"
   ]
  },
  {
   "cell_type": "code",
   "execution_count": 134,
   "metadata": {},
   "outputs": [],
   "source": [
    "NAS_dest = C.groupby(['OP_UNIQUE_CARRIER','DEST','MONTH']).size()\n",
    "cdest = C['DEST'].unique()"
   ]
  },
  {
   "cell_type": "code",
   "execution_count": 144,
   "metadata": {},
   "outputs": [],
   "source": [
    "c_dtrio = []\n",
    "for l in ccar:\n",
    "    for a in cdest:\n",
    "        if (a in arr) & (a in NAS_dest[l]):\n",
    "            for m in range(1,13):\n",
    "                if m in NAS_dest[l][a]:\n",
    "                    if NAS_dest[l][a][m] > 50:\n",
    "                        c_dtrio.append([NAS_dest[l][a][m], l, a, m])"
   ]
  },
  {
   "cell_type": "code",
   "execution_count": 136,
   "metadata": {},
   "outputs": [
    {
     "data": {
      "text/plain": [
       "[[445, 'DL', 'ATL', 12],\n",
       " [332, 'MQ', 'ORD', 6],\n",
       " [252, '9E', 'LGA', 8],\n",
       " [243, 'YX', 'LGA', 8],\n",
       " [232, 'WN', 'BWI', 7],\n",
       " [218, 'MQ', 'ORD', 2],\n",
       " [216, '9E', 'JFK', 8],\n",
       " [208, 'EV', 'EWR', 8],\n",
       " [201, '9E', 'JFK', 1],\n",
       " [193, 'MQ', 'ORD', 8]]"
      ]
     },
     "execution_count": 136,
     "metadata": {},
     "output_type": "execute_result"
    }
   ],
   "source": [
    "sorted(c_dtrio, reverse=True)[:10]"
   ]
  },
  {
   "cell_type": "code",
   "execution_count": null,
   "metadata": {},
   "outputs": [],
   "source": [
    "# There was a power outage at Hartsfield-Jackson Atlanta International Airport on Dec 17\n",
    "# earning 'ATL' the the top spots by most cancled "
   ]
  },
  {
   "cell_type": "code",
   "execution_count": 118,
   "metadata": {
    "scrolled": true
   },
   "outputs": [
    {
     "data": {
      "text/plain": [
       "18    2588\n",
       "17    2438\n",
       "19    2266\n",
       "16    2003\n",
       "15    1868\n",
       "20    1855\n",
       "14    1346\n",
       "21    1270\n",
       "13    1227\n",
       "12    1192\n",
       "22    1018\n",
       "6      956\n",
       "11     901\n",
       "9      843\n",
       "10     798\n",
       "8      730\n",
       "7      722\n",
       "23     209\n",
       "5       65\n",
       "0       33\n",
       "4        3\n",
       "3        3\n",
       "1        3\n",
       "2        1\n",
       "Name: HOUR, dtype: int64"
      ]
     },
     "execution_count": 118,
     "metadata": {},
     "output_type": "execute_result"
    }
   ],
   "source": [
    "# figured the later in the day, the more cancled\n",
    "C['HOUR'].value_counts()"
   ]
  },
  {
   "cell_type": "code",
   "execution_count": 155,
   "metadata": {},
   "outputs": [],
   "source": [
    "N_hr = C.groupby(['OP_UNIQUE_CARRIER','ORIGIN','HOUR']).size()"
   ]
  },
  {
   "cell_type": "code",
   "execution_count": 157,
   "metadata": {},
   "outputs": [],
   "source": [
    "c_time = []\n",
    "for l in ccar:\n",
    "    for o in cport:\n",
    "        if (o in port) & (o in N_hr[l]):\n",
    "            for h in range(24):\n",
    "                if h in N_hr[l][o]:\n",
    "                    if N_hr[l][o][h] > 50:\n",
    "                        c_time.append([N_hr[l][o][h], l, o, h])"
   ]
  },
  {
   "cell_type": "code",
   "execution_count": 160,
   "metadata": {},
   "outputs": [
    {
     "data": {
      "text/plain": [
       "[[212, 'MQ', 'ORD', 17],\n",
       " [159, 'MQ', 'ORD', 19],\n",
       " [152, 'MQ', 'ORD', 15],\n",
       " [125, 'EV', 'EWR', 22],\n",
       " [116, 'MQ', 'ORD', 22],\n",
       " [111, 'MQ', 'JFK', 16],\n",
       " [105, '9E', 'JFK', 22],\n",
       " [100, '9E', 'LGA', 21],\n",
       " [98, 'WN', 'BWI', 20],\n",
       " [97, '9E', 'JFK', 19]]"
      ]
     },
     "execution_count": 160,
     "metadata": {},
     "output_type": "execute_result"
    }
   ],
   "source": [
    "sorted(c_time, reverse=True)[:10]"
   ]
  },
  {
   "cell_type": "markdown",
   "metadata": {},
   "source": [
    "## CODE: D (Security)"
   ]
  },
  {
   "cell_type": "code",
   "execution_count": null,
   "metadata": {},
   "outputs": [],
   "source": [
    "# 73 rows"
   ]
  },
  {
   "cell_type": "code",
   "execution_count": 240,
   "metadata": {},
   "outputs": [
    {
     "data": {
      "text/plain": [
       "PHX    16\n",
       "MCO    15\n",
       "CLT     4\n",
       "DFW     3\n",
       "BLV     3\n",
       "ORD     3\n",
       "LAX     2\n",
       "SFO     2\n",
       "PVD     1\n",
       "SBA     1\n",
       "LGA     1\n",
       "SJC     1\n",
       "PIA     1\n",
       "JAX     1\n",
       "MIA     1\n",
       "DCA     1\n",
       "EWR     1\n",
       "BOS     1\n",
       "IAH     1\n",
       "JFK     1\n",
       "IND     1\n",
       "TUS     1\n",
       "SMF     1\n",
       "AUS     1\n",
       "VPS     1\n",
       "MSP     1\n",
       "DEN     1\n",
       "TPA     1\n",
       "SAN     1\n",
       "SBP     1\n",
       "PHL     1\n",
       "MKE     1\n",
       "HPN     1\n",
       "Name: ORIGIN, dtype: int64"
      ]
     },
     "execution_count": 240,
     "metadata": {},
     "output_type": "execute_result"
    }
   ],
   "source": [
    "D['ORIGIN'].value_counts()"
   ]
  },
  {
   "cell_type": "code",
   "execution_count": 241,
   "metadata": {},
   "outputs": [
    {
     "data": {
      "text/plain": [
       "MCO    14\n",
       "PHX    12\n",
       "CLT     5\n",
       "ORD     3\n",
       "LAX     3\n",
       "DEN     2\n",
       "DFW     2\n",
       "AUS     2\n",
       "TUS     2\n",
       "TPA     2\n",
       "BLV     2\n",
       "ORF     2\n",
       "PHL     2\n",
       "SBA     1\n",
       "JAX     1\n",
       "PIA     1\n",
       "EWR     1\n",
       "FLL     1\n",
       "SJC     1\n",
       "LGA     1\n",
       "SFO     1\n",
       "PVD     1\n",
       "SBP     1\n",
       "JFK     1\n",
       "IND     1\n",
       "IAH     1\n",
       "SMF     1\n",
       "MIA     1\n",
       "VPS     1\n",
       "MSP     1\n",
       "SAN     1\n",
       "MKE     1\n",
       "HPN     1\n",
       "Name: DEST, dtype: int64"
      ]
     },
     "execution_count": 241,
     "metadata": {},
     "output_type": "execute_result"
    }
   ],
   "source": [
    "D['DEST'].value_counts()"
   ]
  },
  {
   "cell_type": "code",
   "execution_count": 243,
   "metadata": {},
   "outputs": [
    {
     "data": {
      "text/plain": [
       "9     35\n",
       "11    29\n",
       "4      5\n",
       "2      2\n",
       "3      1\n",
       "1      1\n",
       "Name: MONTH, dtype: int64"
      ]
     },
     "execution_count": 243,
     "metadata": {},
     "output_type": "execute_result"
    }
   ],
   "source": [
    "D['MONTH'].value_counts()"
   ]
  },
  {
   "cell_type": "code",
   "execution_count": 269,
   "metadata": {},
   "outputs": [],
   "source": [
    "PHX= D[(D['ORIGIN'] == 'PHX') | (D['DEST'] == 'PHX')]\n",
    "MCO= D[(D['ORIGIN'] == 'MCO') | (D['DEST'] == 'MCO')]"
   ]
  },
  {
   "cell_type": "code",
   "execution_count": null,
   "metadata": {},
   "outputs": [],
   "source": [
    "# MCO airport had security alert in Nov of 2017 bec of battery that exploded in someones bag(thought was a gunshot)\n",
    "# PHX airport had security alert in Sept of 2018 bec if suspicious abandoned car"
   ]
  },
  {
   "cell_type": "code",
   "execution_count": 270,
   "metadata": {},
   "outputs": [
    {
     "data": {
      "text/plain": [
       "28"
      ]
     },
     "execution_count": 270,
     "metadata": {},
     "output_type": "execute_result"
    }
   ],
   "source": [
    "len(PHX)"
   ]
  },
  {
   "cell_type": "code",
   "execution_count": 271,
   "metadata": {},
   "outputs": [
    {
     "data": {
      "text/plain": [
       "29"
      ]
     },
     "execution_count": 271,
     "metadata": {},
     "output_type": "execute_result"
    }
   ],
   "source": [
    "len(MCO)"
   ]
  },
  {
   "cell_type": "code",
   "execution_count": 278,
   "metadata": {},
   "outputs": [],
   "source": [
    "other= D[(D['ORIGIN'] != 'PHX') & (D['DEST'] != 'PHX')& \\\n",
    "    (D['ORIGIN'] != 'MCO') & (D['DEST'] != 'MCO')]"
   ]
  },
  {
   "cell_type": "code",
   "execution_count": 281,
   "metadata": {},
   "outputs": [
    {
     "data": {
      "text/html": [
       "<div>\n",
       "<style scoped>\n",
       "    .dataframe tbody tr th:only-of-type {\n",
       "        vertical-align: middle;\n",
       "    }\n",
       "\n",
       "    .dataframe tbody tr th {\n",
       "        vertical-align: top;\n",
       "    }\n",
       "\n",
       "    .dataframe thead th {\n",
       "        text-align: right;\n",
       "    }\n",
       "</style>\n",
       "<table border=\"1\" class=\"dataframe\">\n",
       "  <thead>\n",
       "    <tr style=\"text-align: right;\">\n",
       "      <th></th>\n",
       "      <th>YEAR</th>\n",
       "      <th>MONTH</th>\n",
       "      <th>DAY_OF_MONTH</th>\n",
       "      <th>DAY_OF_WEEK</th>\n",
       "      <th>FL_DATE</th>\n",
       "      <th>OP_UNIQUE_CARRIER</th>\n",
       "      <th>TAIL_NUM</th>\n",
       "      <th>OP_CARRIER_FL_NUM</th>\n",
       "      <th>ORIGIN</th>\n",
       "      <th>ORIGIN_CITY_NAME</th>\n",
       "      <th>DEST</th>\n",
       "      <th>DEST_CITY_NAME</th>\n",
       "      <th>CRS_DEP_TIME</th>\n",
       "      <th>CRS_ARR_TIME</th>\n",
       "      <th>CANCELLATION_CODE</th>\n",
       "      <th>TOTAL_ADD_GTIME</th>\n",
       "    </tr>\n",
       "  </thead>\n",
       "  <tbody>\n",
       "    <tr>\n",
       "      <th>12572</th>\n",
       "      <td>2018</td>\n",
       "      <td>1</td>\n",
       "      <td>29</td>\n",
       "      <td>1</td>\n",
       "      <td>2018-01-29</td>\n",
       "      <td>NK</td>\n",
       "      <td>N512NK</td>\n",
       "      <td>799</td>\n",
       "      <td>BOS</td>\n",
       "      <td>Boston, MA</td>\n",
       "      <td>TPA</td>\n",
       "      <td>Tampa, FL</td>\n",
       "      <td>2035</td>\n",
       "      <td>1</td>\n",
       "      <td>D</td>\n",
       "      <td>NaN</td>\n",
       "    </tr>\n",
       "    <tr>\n",
       "      <th>26429</th>\n",
       "      <td>2018</td>\n",
       "      <td>2</td>\n",
       "      <td>17</td>\n",
       "      <td>6</td>\n",
       "      <td>2018-02-17</td>\n",
       "      <td>OH</td>\n",
       "      <td>N253PS</td>\n",
       "      <td>5431</td>\n",
       "      <td>CLT</td>\n",
       "      <td>Charlotte, NC</td>\n",
       "      <td>PIA</td>\n",
       "      <td>Peoria, IL</td>\n",
       "      <td>1110</td>\n",
       "      <td>1214</td>\n",
       "      <td>D</td>\n",
       "      <td>NaN</td>\n",
       "    </tr>\n",
       "    <tr>\n",
       "      <th>26692</th>\n",
       "      <td>2018</td>\n",
       "      <td>2</td>\n",
       "      <td>17</td>\n",
       "      <td>6</td>\n",
       "      <td>2018-02-17</td>\n",
       "      <td>OH</td>\n",
       "      <td>N245PS</td>\n",
       "      <td>5549</td>\n",
       "      <td>PIA</td>\n",
       "      <td>Peoria, IL</td>\n",
       "      <td>CLT</td>\n",
       "      <td>Charlotte, NC</td>\n",
       "      <td>730</td>\n",
       "      <td>1035</td>\n",
       "      <td>D</td>\n",
       "      <td>NaN</td>\n",
       "    </tr>\n",
       "    <tr>\n",
       "      <th>44481</th>\n",
       "      <td>2018</td>\n",
       "      <td>3</td>\n",
       "      <td>20</td>\n",
       "      <td>2</td>\n",
       "      <td>2018-03-20</td>\n",
       "      <td>YX</td>\n",
       "      <td>N410YX</td>\n",
       "      <td>4438</td>\n",
       "      <td>DCA</td>\n",
       "      <td>Washington, DC</td>\n",
       "      <td>PHL</td>\n",
       "      <td>Philadelphia, PA</td>\n",
       "      <td>1550</td>\n",
       "      <td>1659</td>\n",
       "      <td>D</td>\n",
       "      <td>NaN</td>\n",
       "    </tr>\n",
       "    <tr>\n",
       "      <th>51380</th>\n",
       "      <td>2018</td>\n",
       "      <td>4</td>\n",
       "      <td>1</td>\n",
       "      <td>7</td>\n",
       "      <td>2018-04-01</td>\n",
       "      <td>G4</td>\n",
       "      <td>NaN</td>\n",
       "      <td>618</td>\n",
       "      <td>BLV</td>\n",
       "      <td>Belleville, IL</td>\n",
       "      <td>JAX</td>\n",
       "      <td>Jacksonville, FL</td>\n",
       "      <td>1431</td>\n",
       "      <td>1725</td>\n",
       "      <td>D</td>\n",
       "      <td>NaN</td>\n",
       "    </tr>\n",
       "    <tr>\n",
       "      <th>51381</th>\n",
       "      <td>2018</td>\n",
       "      <td>4</td>\n",
       "      <td>1</td>\n",
       "      <td>7</td>\n",
       "      <td>2018-04-01</td>\n",
       "      <td>G4</td>\n",
       "      <td>NaN</td>\n",
       "      <td>1352</td>\n",
       "      <td>VPS</td>\n",
       "      <td>Valparaiso, FL</td>\n",
       "      <td>BLV</td>\n",
       "      <td>Belleville, IL</td>\n",
       "      <td>1444</td>\n",
       "      <td>1632</td>\n",
       "      <td>D</td>\n",
       "      <td>NaN</td>\n",
       "    </tr>\n",
       "    <tr>\n",
       "      <th>51382</th>\n",
       "      <td>2018</td>\n",
       "      <td>4</td>\n",
       "      <td>1</td>\n",
       "      <td>7</td>\n",
       "      <td>2018-04-01</td>\n",
       "      <td>G4</td>\n",
       "      <td>NaN</td>\n",
       "      <td>619</td>\n",
       "      <td>JAX</td>\n",
       "      <td>Jacksonville, FL</td>\n",
       "      <td>BLV</td>\n",
       "      <td>Belleville, IL</td>\n",
       "      <td>1805</td>\n",
       "      <td>1903</td>\n",
       "      <td>D</td>\n",
       "      <td>NaN</td>\n",
       "    </tr>\n",
       "    <tr>\n",
       "      <th>51383</th>\n",
       "      <td>2018</td>\n",
       "      <td>4</td>\n",
       "      <td>1</td>\n",
       "      <td>7</td>\n",
       "      <td>2018-04-01</td>\n",
       "      <td>G4</td>\n",
       "      <td>NaN</td>\n",
       "      <td>1353</td>\n",
       "      <td>BLV</td>\n",
       "      <td>Belleville, IL</td>\n",
       "      <td>VPS</td>\n",
       "      <td>Valparaiso, FL</td>\n",
       "      <td>1717</td>\n",
       "      <td>1900</td>\n",
       "      <td>D</td>\n",
       "      <td>NaN</td>\n",
       "    </tr>\n",
       "    <tr>\n",
       "      <th>51384</th>\n",
       "      <td>2018</td>\n",
       "      <td>4</td>\n",
       "      <td>1</td>\n",
       "      <td>7</td>\n",
       "      <td>2018-04-01</td>\n",
       "      <td>G4</td>\n",
       "      <td>NaN</td>\n",
       "      <td>1767</td>\n",
       "      <td>BLV</td>\n",
       "      <td>Belleville, IL</td>\n",
       "      <td>FLL</td>\n",
       "      <td>Fort Lauderdale, FL</td>\n",
       "      <td>920</td>\n",
       "      <td>1305</td>\n",
       "      <td>D</td>\n",
       "      <td>NaN</td>\n",
       "    </tr>\n",
       "    <tr>\n",
       "      <th>99732</th>\n",
       "      <td>2018</td>\n",
       "      <td>9</td>\n",
       "      <td>16</td>\n",
       "      <td>7</td>\n",
       "      <td>2018-09-16</td>\n",
       "      <td>AA</td>\n",
       "      <td>N659AW</td>\n",
       "      <td>649</td>\n",
       "      <td>DFW</td>\n",
       "      <td>Dallas/Fort Worth, TX</td>\n",
       "      <td>TUS</td>\n",
       "      <td>Tucson, AZ</td>\n",
       "      <td>2225</td>\n",
       "      <td>2244</td>\n",
       "      <td>D</td>\n",
       "      <td>NaN</td>\n",
       "    </tr>\n",
       "    <tr>\n",
       "      <th>99743</th>\n",
       "      <td>2018</td>\n",
       "      <td>9</td>\n",
       "      <td>16</td>\n",
       "      <td>7</td>\n",
       "      <td>2018-09-16</td>\n",
       "      <td>AA</td>\n",
       "      <td>N508AY</td>\n",
       "      <td>1671</td>\n",
       "      <td>SFO</td>\n",
       "      <td>San Francisco, CA</td>\n",
       "      <td>DFW</td>\n",
       "      <td>Dallas/Fort Worth, TX</td>\n",
       "      <td>1417</td>\n",
       "      <td>2000</td>\n",
       "      <td>D</td>\n",
       "      <td>NaN</td>\n",
       "    </tr>\n",
       "    <tr>\n",
       "      <th>105389</th>\n",
       "      <td>2018</td>\n",
       "      <td>9</td>\n",
       "      <td>16</td>\n",
       "      <td>7</td>\n",
       "      <td>2018-09-16</td>\n",
       "      <td>AA</td>\n",
       "      <td>N827AW</td>\n",
       "      <td>441</td>\n",
       "      <td>IND</td>\n",
       "      <td>Indianapolis, IN</td>\n",
       "      <td>LAX</td>\n",
       "      <td>Los Angeles, CA</td>\n",
       "      <td>1710</td>\n",
       "      <td>1840</td>\n",
       "      <td>D</td>\n",
       "      <td>NaN</td>\n",
       "    </tr>\n",
       "    <tr>\n",
       "      <th>105457</th>\n",
       "      <td>2018</td>\n",
       "      <td>9</td>\n",
       "      <td>16</td>\n",
       "      <td>7</td>\n",
       "      <td>2018-09-16</td>\n",
       "      <td>AA</td>\n",
       "      <td>N508AY</td>\n",
       "      <td>577</td>\n",
       "      <td>DFW</td>\n",
       "      <td>Dallas/Fort Worth, TX</td>\n",
       "      <td>DEN</td>\n",
       "      <td>Denver, CO</td>\n",
       "      <td>2055</td>\n",
       "      <td>2156</td>\n",
       "      <td>D</td>\n",
       "      <td>NaN</td>\n",
       "    </tr>\n",
       "    <tr>\n",
       "      <th>105564</th>\n",
       "      <td>2018</td>\n",
       "      <td>9</td>\n",
       "      <td>16</td>\n",
       "      <td>7</td>\n",
       "      <td>2018-09-16</td>\n",
       "      <td>AA</td>\n",
       "      <td>N649AW</td>\n",
       "      <td>855</td>\n",
       "      <td>DFW</td>\n",
       "      <td>Dallas/Fort Worth, TX</td>\n",
       "      <td>CLT</td>\n",
       "      <td>Charlotte, NC</td>\n",
       "      <td>1855</td>\n",
       "      <td>2231</td>\n",
       "      <td>D</td>\n",
       "      <td>NaN</td>\n",
       "    </tr>\n",
       "    <tr>\n",
       "      <th>105654</th>\n",
       "      <td>2018</td>\n",
       "      <td>9</td>\n",
       "      <td>16</td>\n",
       "      <td>7</td>\n",
       "      <td>2018-09-16</td>\n",
       "      <td>AA</td>\n",
       "      <td>N659AW</td>\n",
       "      <td>1933</td>\n",
       "      <td>MSP</td>\n",
       "      <td>Minneapolis, MN</td>\n",
       "      <td>DFW</td>\n",
       "      <td>Dallas/Fort Worth, TX</td>\n",
       "      <td>1822</td>\n",
       "      <td>2105</td>\n",
       "      <td>D</td>\n",
       "      <td>NaN</td>\n",
       "    </tr>\n",
       "    <tr>\n",
       "      <th>105662</th>\n",
       "      <td>2018</td>\n",
       "      <td>9</td>\n",
       "      <td>16</td>\n",
       "      <td>7</td>\n",
       "      <td>2018-09-16</td>\n",
       "      <td>AA</td>\n",
       "      <td>N764US</td>\n",
       "      <td>1938</td>\n",
       "      <td>CLT</td>\n",
       "      <td>Charlotte, NC</td>\n",
       "      <td>ORF</td>\n",
       "      <td>Norfolk, VA</td>\n",
       "      <td>2242</td>\n",
       "      <td>2349</td>\n",
       "      <td>D</td>\n",
       "      <td>NaN</td>\n",
       "    </tr>\n",
       "  </tbody>\n",
       "</table>\n",
       "</div>"
      ],
      "text/plain": [
       "        YEAR  MONTH  DAY_OF_MONTH  DAY_OF_WEEK     FL_DATE OP_UNIQUE_CARRIER  \\\n",
       "12572   2018      1            29            1  2018-01-29                NK   \n",
       "26429   2018      2            17            6  2018-02-17                OH   \n",
       "26692   2018      2            17            6  2018-02-17                OH   \n",
       "44481   2018      3            20            2  2018-03-20                YX   \n",
       "51380   2018      4             1            7  2018-04-01                G4   \n",
       "51381   2018      4             1            7  2018-04-01                G4   \n",
       "51382   2018      4             1            7  2018-04-01                G4   \n",
       "51383   2018      4             1            7  2018-04-01                G4   \n",
       "51384   2018      4             1            7  2018-04-01                G4   \n",
       "99732   2018      9            16            7  2018-09-16                AA   \n",
       "99743   2018      9            16            7  2018-09-16                AA   \n",
       "105389  2018      9            16            7  2018-09-16                AA   \n",
       "105457  2018      9            16            7  2018-09-16                AA   \n",
       "105564  2018      9            16            7  2018-09-16                AA   \n",
       "105654  2018      9            16            7  2018-09-16                AA   \n",
       "105662  2018      9            16            7  2018-09-16                AA   \n",
       "\n",
       "       TAIL_NUM  OP_CARRIER_FL_NUM ORIGIN       ORIGIN_CITY_NAME DEST  \\\n",
       "12572    N512NK                799    BOS             Boston, MA  TPA   \n",
       "26429    N253PS               5431    CLT          Charlotte, NC  PIA   \n",
       "26692    N245PS               5549    PIA             Peoria, IL  CLT   \n",
       "44481    N410YX               4438    DCA         Washington, DC  PHL   \n",
       "51380       NaN                618    BLV         Belleville, IL  JAX   \n",
       "51381       NaN               1352    VPS         Valparaiso, FL  BLV   \n",
       "51382       NaN                619    JAX       Jacksonville, FL  BLV   \n",
       "51383       NaN               1353    BLV         Belleville, IL  VPS   \n",
       "51384       NaN               1767    BLV         Belleville, IL  FLL   \n",
       "99732    N659AW                649    DFW  Dallas/Fort Worth, TX  TUS   \n",
       "99743    N508AY               1671    SFO      San Francisco, CA  DFW   \n",
       "105389   N827AW                441    IND       Indianapolis, IN  LAX   \n",
       "105457   N508AY                577    DFW  Dallas/Fort Worth, TX  DEN   \n",
       "105564   N649AW                855    DFW  Dallas/Fort Worth, TX  CLT   \n",
       "105654   N659AW               1933    MSP        Minneapolis, MN  DFW   \n",
       "105662   N764US               1938    CLT          Charlotte, NC  ORF   \n",
       "\n",
       "               DEST_CITY_NAME  CRS_DEP_TIME  CRS_ARR_TIME CANCELLATION_CODE  \\\n",
       "12572               Tampa, FL          2035             1                 D   \n",
       "26429              Peoria, IL          1110          1214                 D   \n",
       "26692           Charlotte, NC           730          1035                 D   \n",
       "44481        Philadelphia, PA          1550          1659                 D   \n",
       "51380        Jacksonville, FL          1431          1725                 D   \n",
       "51381          Belleville, IL          1444          1632                 D   \n",
       "51382          Belleville, IL          1805          1903                 D   \n",
       "51383          Valparaiso, FL          1717          1900                 D   \n",
       "51384     Fort Lauderdale, FL           920          1305                 D   \n",
       "99732              Tucson, AZ          2225          2244                 D   \n",
       "99743   Dallas/Fort Worth, TX          1417          2000                 D   \n",
       "105389        Los Angeles, CA          1710          1840                 D   \n",
       "105457             Denver, CO          2055          2156                 D   \n",
       "105564          Charlotte, NC          1855          2231                 D   \n",
       "105654  Dallas/Fort Worth, TX          1822          2105                 D   \n",
       "105662            Norfolk, VA          2242          2349                 D   \n",
       "\n",
       "        TOTAL_ADD_GTIME  \n",
       "12572               NaN  \n",
       "26429               NaN  \n",
       "26692               NaN  \n",
       "44481               NaN  \n",
       "51380               NaN  \n",
       "51381               NaN  \n",
       "51382               NaN  \n",
       "51383               NaN  \n",
       "51384               NaN  \n",
       "99732               NaN  \n",
       "99743               NaN  \n",
       "105389              NaN  \n",
       "105457              NaN  \n",
       "105564              NaN  \n",
       "105654              NaN  \n",
       "105662              NaN  "
      ]
     },
     "execution_count": 281,
     "metadata": {},
     "output_type": "execute_result"
    }
   ],
   "source": [
    "other"
   ]
  },
  {
   "cell_type": "code",
   "execution_count": null,
   "metadata": {},
   "outputs": [],
   "source": []
  }
 ],
 "metadata": {
  "kernelspec": {
   "display_name": "Python 3",
   "language": "python",
   "name": "python3"
  },
  "language_info": {
   "codemirror_mode": {
    "name": "ipython",
    "version": 3
   },
   "file_extension": ".py",
   "mimetype": "text/x-python",
   "name": "python",
   "nbconvert_exporter": "python",
   "pygments_lexer": "ipython3",
   "version": "3.6.5"
  }
 },
 "nbformat": 4,
 "nbformat_minor": 2
}
