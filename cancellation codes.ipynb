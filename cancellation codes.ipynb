{
 "cells": [
  {
   "cell_type": "code",
   "execution_count": 1,
   "metadata": {},
   "outputs": [],
   "source": [
    "import pandas as pd\n",
    "import numpy as np\n",
    "import os\n",
    "import math\n",
    "import matplotlib\n",
    "import matplotlib.pyplot as plt\n",
    "%matplotlib inline\n",
    "import seaborn as sns\n",
    "import pickle"
   ]
  },
  {
   "cell_type": "code",
   "execution_count": 28,
   "metadata": {},
   "outputs": [],
   "source": [
    "cwd = os.getcwd()\n",
    "cancel = pd.read_csv(cwd + '/cancel.csv')"
   ]
  },
  {
   "cell_type": "code",
   "execution_count": 3,
   "metadata": {},
   "outputs": [],
   "source": [
    "infile = open('yearly_flights.pickle', 'rb')\n",
    "yearly = pickle.load(infile)\n",
    "infile.close()"
   ]
  },
  {
   "cell_type": "markdown",
   "metadata": {},
   "source": [
    "\"A\" = \"Carrier\" <br> \n",
    "> The cause of the cancellation or delay was due to circumstances within the airline's control (e.g. maintenance or crew problems, etc.).<br>\n",
    "\n",
    "\"B\" = \"Weather\" <br> \n",
    "> Significant meteorological conditions (actual or forecasted) that, in the judgment of the carrier, delays or prevents the operation of a flight such as tornado, blizzard or hurricane.<br>\n",
    "\n",
    "\"C\" = \"National Air System\" <br>\n",
    "> Cancellations attributable to the national aviation system that refer to a broad set of conditions, such as non-extreme weather conditions, airport operations, heavy traffic volume, and air traffic control.<br>\n",
    "\n",
    "\"D\" = \"Security\" <br>\n",
    "> Cancellations caused by evacuation of a terminal or concourse, re-boarding of aircraft because of security breach, inoperative screening equipment and/or long lines in excess of 29 minutes at screening areas.<br>"
   ]
  },
  {
   "cell_type": "code",
   "execution_count": 29,
   "metadata": {},
   "outputs": [],
   "source": [
    "A = cancel[cancel['CANCELLATION_CODE'] == 'A']\n",
    "B = cancel[cancel['CANCELLATION_CODE'] == 'B']\n",
    "C = cancel[cancel['CANCELLATION_CODE'] == 'C']\n",
    "D = cancel[cancel['CANCELLATION_CODE'] == 'D']"
   ]
  },
  {
   "cell_type": "code",
   "execution_count": 5,
   "metadata": {},
   "outputs": [
    {
     "data": {
      "text/plain": [
       "N719EV    66\n",
       "N738EV    60\n",
       "N226JS    52\n",
       "N248PS    51\n",
       "N603QX    49\n",
       "N244PS    48\n",
       "N250PS    48\n",
       "N258PS    48\n",
       "N251PS    47\n",
       "N617QX    47\n",
       "N600QX    45\n",
       "N611QX    44\n",
       "N230PS    42\n",
       "N720EV    42\n",
       "N223JS    41\n",
       "Name: TAIL_NUM, dtype: int64"
      ]
     },
     "execution_count": 5,
     "metadata": {},
     "output_type": "execute_result"
    }
   ],
   "source": [
    "#certain planes that might be more prone to canceltaion\n",
    "A['TAIL_NUM'].value_counts()[:15]"
   ]
  },
  {
   "cell_type": "code",
   "execution_count": 6,
   "metadata": {},
   "outputs": [
    {
     "data": {
      "text/plain": [
       "Charlotte, NC            1939\n",
       "Dallas/Fort Worth, TX    1406\n",
       "New York, NY             1359\n",
       "Washington, DC           1109\n",
       "Chicago, IL              1062\n",
       "Los Angeles, CA          1034\n",
       "Houston, TX               764\n",
       "Newark, NJ                704\n",
       "San Francisco, CA         675\n",
       "Philadelphia, PA          667\n",
       "Name: ORIGIN_CITY_NAME, dtype: int64"
      ]
     },
     "execution_count": 6,
     "metadata": {},
     "output_type": "execute_result"
    }
   ],
   "source": [
    "A['ORIGIN_CITY_NAME'].value_counts()[:10]"
   ]
  },
  {
   "cell_type": "code",
   "execution_count": 8,
   "metadata": {},
   "outputs": [
    {
     "data": {
      "text/plain": [
       "Chicago, IL              4853\n",
       "New York, NY             4548\n",
       "Charlotte, NC            2869\n",
       "Dallas/Fort Worth, TX    2592\n",
       "Washington, DC           2535\n",
       "Boston, MA               2393\n",
       "Atlanta, GA              2327\n",
       "Newark, NJ               2181\n",
       "Philadelphia, PA         1857\n",
       "Minneapolis, MN          1312\n",
       "Name: ORIGIN_CITY_NAME, dtype: int64"
      ]
     },
     "execution_count": 8,
     "metadata": {},
     "output_type": "execute_result"
    }
   ],
   "source": [
    "B['ORIGIN_CITY_NAME'].value_counts()[:10]"
   ]
  },
  {
   "cell_type": "code",
   "execution_count": 9,
   "metadata": {},
   "outputs": [
    {
     "data": {
      "text/plain": [
       "New York, NY             3992\n",
       "Chicago, IL              2216\n",
       "Newark, NJ               1415\n",
       "Washington, DC            997\n",
       "Atlanta, GA               896\n",
       "Boston, MA                743\n",
       "San Francisco, CA         719\n",
       "Baltimore, MD             707\n",
       "Dallas/Fort Worth, TX     637\n",
       "Philadelphia, PA          573\n",
       "Name: ORIGIN_CITY_NAME, dtype: int64"
      ]
     },
     "execution_count": 9,
     "metadata": {},
     "output_type": "execute_result"
    }
   ],
   "source": [
    "C['ORIGIN_CITY_NAME'].value_counts()[:10]"
   ]
  },
  {
   "cell_type": "code",
   "execution_count": 10,
   "metadata": {},
   "outputs": [
    {
     "data": {
      "text/plain": [
       "Phoenix, AZ              16\n",
       "Orlando, FL              15\n",
       "Charlotte, NC             4\n",
       "Belleville, IL            3\n",
       "Dallas/Fort Worth, TX     3\n",
       "Chicago, IL               3\n",
       "New York, NY              2\n",
       "Los Angeles, CA           2\n",
       "San Francisco, CA         2\n",
       "Valparaiso, FL            1\n",
       "Name: ORIGIN_CITY_NAME, dtype: int64"
      ]
     },
     "execution_count": 10,
     "metadata": {},
     "output_type": "execute_result"
    }
   ],
   "source": [
    "D['ORIGIN_CITY_NAME'].value_counts()[:10]"
   ]
  },
  {
   "cell_type": "code",
   "execution_count": 11,
   "metadata": {},
   "outputs": [
    {
     "data": {
      "text/plain": [
       "WN    5372\n",
       "OH    4425\n",
       "AA    4176\n",
       "YV    2216\n",
       "YX    1663\n",
       "MQ    1519\n",
       "F9    1476\n",
       "B6    1377\n",
       "EV    1195\n",
       "AS     985\n",
       "UA     891\n",
       "OO     772\n",
       "DL     565\n",
       "G4     396\n",
       "NK     331\n",
       "9E     314\n",
       "HA     256\n",
       "VX     224\n",
       "Name: OP_UNIQUE_CARRIER, dtype: int64"
      ]
     },
     "execution_count": 11,
     "metadata": {},
     "output_type": "execute_result"
    }
   ],
   "source": [
    "A['OP_UNIQUE_CARRIER'].value_counts()"
   ]
  },
  {
   "cell_type": "code",
   "execution_count": 12,
   "metadata": {},
   "outputs": [
    {
     "data": {
      "text/plain": [
       "WN    9774\n",
       "AA    8535\n",
       "OO    7760\n",
       "OH    5362\n",
       "YX    4813\n",
       "DL    3864\n",
       "B6    3601\n",
       "UA    3265\n",
       "MQ    2204\n",
       "YV    2105\n",
       "9E    2009\n",
       "EV    1389\n",
       "NK    1289\n",
       "F9     752\n",
       "AS     576\n",
       "G4     243\n",
       "VX     201\n",
       "HA      14\n",
       "Name: OP_UNIQUE_CARRIER, dtype: int64"
      ]
     },
     "execution_count": 12,
     "metadata": {},
     "output_type": "execute_result"
    }
   ],
   "source": [
    "B['OP_UNIQUE_CARRIER'].value_counts()"
   ]
  },
  {
   "cell_type": "code",
   "execution_count": 14,
   "metadata": {},
   "outputs": [
    {
     "data": {
      "text/plain": [
       "MQ    5581\n",
       "9E    3661\n",
       "YX    2823\n",
       "WN    2792\n",
       "EV    2464\n",
       "OO    1674\n",
       "B6    1311\n",
       "DL    1082\n",
       "AA     721\n",
       "OH     704\n",
       "YV     549\n",
       "AS     403\n",
       "NK     217\n",
       "UA     217\n",
       "VX     106\n",
       "G4      33\n",
       "Name: OP_UNIQUE_CARRIER, dtype: int64"
      ]
     },
     "execution_count": 14,
     "metadata": {},
     "output_type": "execute_result"
    }
   ],
   "source": [
    "C['OP_UNIQUE_CARRIER'].value_counts()"
   ]
  },
  {
   "cell_type": "code",
   "execution_count": 15,
   "metadata": {},
   "outputs": [
    {
     "data": {
      "text/plain": [
       "AA    32\n",
       "F9    12\n",
       "B6    10\n",
       "YV     8\n",
       "G4     5\n",
       "WN     2\n",
       "OH     2\n",
       "YX     1\n",
       "NK     1\n",
       "Name: OP_UNIQUE_CARRIER, dtype: int64"
      ]
     },
     "execution_count": 15,
     "metadata": {},
     "output_type": "execute_result"
    }
   ],
   "source": [
    "D['OP_UNIQUE_CARRIER'].value_counts()"
   ]
  },
  {
   "cell_type": "code",
   "execution_count": 19,
   "metadata": {},
   "outputs": [
    {
     "data": {
      "text/plain": [
       "6     5970\n",
       "7     3400\n",
       "8     3100\n",
       "3     2355\n",
       "1     2323\n",
       "5     2204\n",
       "9     1882\n",
       "4     1869\n",
       "2     1735\n",
       "10    1641\n",
       "12     997\n",
       "11     677\n",
       "Name: MONTH, dtype: int64"
      ]
     },
     "execution_count": 19,
     "metadata": {},
     "output_type": "execute_result"
    }
   ],
   "source": [
    "A['MONTH'].value_counts()"
   ]
  },
  {
   "cell_type": "code",
   "execution_count": 18,
   "metadata": {},
   "outputs": [
    {
     "data": {
      "text/plain": [
       "3     13566\n",
       "1     12656\n",
       "2      5753\n",
       "9      4609\n",
       "7      3479\n",
       "4      3233\n",
       "5      3217\n",
       "8      3159\n",
       "12     2947\n",
       "6      2486\n",
       "10     2147\n",
       "11      504\n",
       "Name: MONTH, dtype: int64"
      ]
     },
     "execution_count": 18,
     "metadata": {},
     "output_type": "execute_result"
    }
   ],
   "source": [
    "B['MONTH'].value_counts()"
   ]
  },
  {
   "cell_type": "code",
   "execution_count": 16,
   "metadata": {},
   "outputs": [
    {
     "data": {
      "text/plain": [
       "8     6094\n",
       "7     4204\n",
       "6     2238\n",
       "1     2189\n",
       "5     1734\n",
       "9     1606\n",
       "2     1486\n",
       "12    1380\n",
       "3     1358\n",
       "4     1144\n",
       "10     697\n",
       "11     208\n",
       "Name: MONTH, dtype: int64"
      ]
     },
     "execution_count": 16,
     "metadata": {},
     "output_type": "execute_result"
    }
   ],
   "source": [
    "C['MONTH'].value_counts()"
   ]
  },
  {
   "cell_type": "code",
   "execution_count": 17,
   "metadata": {
    "scrolled": false
   },
   "outputs": [
    {
     "data": {
      "text/plain": [
       "9     35\n",
       "11    29\n",
       "4      5\n",
       "2      2\n",
       "3      1\n",
       "1      1\n",
       "Name: MONTH, dtype: int64"
      ]
     },
     "execution_count": 17,
     "metadata": {},
     "output_type": "execute_result"
    }
   ],
   "source": [
    "D['MONTH'].value_counts()"
   ]
  },
  {
   "cell_type": "code",
   "execution_count": 57,
   "metadata": {},
   "outputs": [
    {
     "data": {
      "text/plain": [
       "greater    6452\n",
       "dtype: int64"
      ]
     },
     "execution_count": 57,
     "metadata": {},
     "output_type": "execute_result"
    }
   ],
   "source": [
    "A.groupby(['OP_UNIQUE_CARRIER','ORIGIN','MONTH']).size().agg({'greater': lambda val: (val >10).count()})"
   ]
  },
  {
   "cell_type": "code",
   "execution_count": 41,
   "metadata": {},
   "outputs": [
    {
     "data": {
      "text/plain": [
       "<pandas.core.groupby.groupby.DataFrameGroupBy object at 0x1a194137b8>"
      ]
     },
     "execution_count": 41,
     "metadata": {},
     "output_type": "execute_result"
    }
   ],
   "source": [
    "A.groupby(['OP_UNIQUE_CARRIER','ORIGIN','MONTH']).size()"
   ]
  },
  {
   "cell_type": "code",
   "execution_count": 54,
   "metadata": {},
   "outputs": [
    {
     "data": {
      "text/plain": [
       "OP_UNIQUE_CARRIER  ORIGIN\n",
       "9E                 ABY         1\n",
       "                   ACK         1\n",
       "                   AGS         1\n",
       "                   ATL        55\n",
       "                   ATW         2\n",
       "                   AUS         1\n",
       "                   BDL         2\n",
       "                   BGR        14\n",
       "                   BHM         2\n",
       "                   BMI         1\n",
       "                   BNA        25\n",
       "                   BOS        75\n",
       "                   BQK         4\n",
       "                   BTR         1\n",
       "                   BTV        35\n",
       "                   BUF        50\n",
       "                   BWI        24\n",
       "                   CAE         4\n",
       "                   CHO         4\n",
       "                   CHS        10\n",
       "                   CID         1\n",
       "                   CLE        19\n",
       "                   CLT        42\n",
       "                   CMH         9\n",
       "                   CRW         2\n",
       "                   CSG         1\n",
       "                   CVG        62\n",
       "                   CWA         5\n",
       "                   DAY         3\n",
       "                   DCA        24\n",
       "                            ... \n",
       "YX                 MSY        19\n",
       "                   MVY         1\n",
       "                   MYR         9\n",
       "                   OKC         3\n",
       "                   OMA        15\n",
       "                   ORD       213\n",
       "                   ORF        60\n",
       "                   PBI         6\n",
       "                   PHF         2\n",
       "                   PHL       439\n",
       "                   PIT        92\n",
       "                   PNS         5\n",
       "                   PVD        32\n",
       "                   PWM        33\n",
       "                   RAP         1\n",
       "                   RDU       123\n",
       "                   RIC         9\n",
       "                   ROC        32\n",
       "                   RSW         1\n",
       "                   SAV        16\n",
       "                   SDF        38\n",
       "                   SLC         4\n",
       "                   SRQ         3\n",
       "                   STL        34\n",
       "                   SYR        37\n",
       "                   TLH         8\n",
       "                   TUL         2\n",
       "                   TVC         1\n",
       "                   VPS         1\n",
       "                   XNA        20\n",
       "Length: 1571, dtype: int64"
      ]
     },
     "execution_count": 54,
     "metadata": {},
     "output_type": "execute_result"
    }
   ],
   "source": [
    "B.groupby(['OP_UNIQUE_CARRIER','ORIGIN']).size()"
   ]
  },
  {
   "cell_type": "code",
   "execution_count": 37,
   "metadata": {},
   "outputs": [
    {
     "data": {
      "text/plain": [
       "OP_UNIQUE_CARRIER  ORIGIN  MONTH\n",
       "9E                 ABY     1         3\n",
       "                   ACK     8         2\n",
       "                   AEX     1         2\n",
       "                   AGS     6         1\n",
       "                           7         1\n",
       "                           10        1\n",
       "                   ATL     1        49\n",
       "                           2         6\n",
       "                           4         1\n",
       "                           5         1\n",
       "                           6        21\n",
       "                           7        11\n",
       "                           8         1\n",
       "                           9         8\n",
       "                           10        3\n",
       "                   ATW     1         2\n",
       "                           2         1\n",
       "                   AUS     8         1\n",
       "                   AVL     6         2\n",
       "                           7         2\n",
       "                           8         1\n",
       "                   BDL     2         2\n",
       "                           3         1\n",
       "                           8         1\n",
       "                   BGR     1        17\n",
       "                           2         3\n",
       "                           3         4\n",
       "                           4         1\n",
       "                           5         1\n",
       "                           7         3\n",
       "                                    ..\n",
       "YX                 SDF     7         5\n",
       "                           8        12\n",
       "                           9         4\n",
       "                           10        1\n",
       "                   SRQ     7         2\n",
       "                           8         2\n",
       "                   STL     2         1\n",
       "                           4         1\n",
       "                           5         5\n",
       "                           6         6\n",
       "                           7        12\n",
       "                           8        11\n",
       "                           9         5\n",
       "                   SYR     3         1\n",
       "                           4         1\n",
       "                           5         1\n",
       "                           6         2\n",
       "                           7         3\n",
       "                           8         5\n",
       "                           10        1\n",
       "                   TLH     9         1\n",
       "                   TVC     8         1\n",
       "                   VPS     10        1\n",
       "                   XNA     2         1\n",
       "                           4         1\n",
       "                           5         1\n",
       "                           6         1\n",
       "                           7         3\n",
       "                           8         5\n",
       "                           9         5\n",
       "Length: 4365, dtype: int64"
      ]
     },
     "execution_count": 37,
     "metadata": {},
     "output_type": "execute_result"
    }
   ],
   "source": [
    "C.groupby(['OP_UNIQUE_CARRIER','ORIGIN','MONTH']).size()"
   ]
  },
  {
   "cell_type": "code",
   "execution_count": 32,
   "metadata": {
    "scrolled": true
   },
   "outputs": [
    {
     "data": {
      "text/plain": [
       "OP_UNIQUE_CARRIER  ORIGIN  MONTH\n",
       "AA                 CLT     9         2\n",
       "                           11        1\n",
       "                   DFW     9         3\n",
       "                   IND     9         1\n",
       "                   JFK     11        1\n",
       "                   LAX     9         1\n",
       "                   MCO     11        3\n",
       "                   MIA     11        1\n",
       "                   MKE     9         1\n",
       "                   MSP     9         1\n",
       "                   ORD     9         2\n",
       "                   PHX     9        11\n",
       "                   SFO     9         1\n",
       "                   SJC     9         1\n",
       "                   SMF     9         1\n",
       "                   TPA     9         1\n",
       "B6                 AUS     11        1\n",
       "                   EWR     11        1\n",
       "                   HPN     11        1\n",
       "                   LGA     11        1\n",
       "                   MCO     11        5\n",
       "                   PVD     11        1\n",
       "F9                 DEN     11        1\n",
       "                   LAX     11        1\n",
       "                   MCO     11        6\n",
       "                   ORD     11        1\n",
       "                   PHL     11        1\n",
       "                   SAN     11        1\n",
       "                   SFO     11        1\n",
       "G4                 BLV     4         3\n",
       "                   JAX     4         1\n",
       "                   VPS     4         1\n",
       "NK                 BOS     1         1\n",
       "OH                 CLT     2         1\n",
       "                   PIA     2         1\n",
       "WN                 MCO     11        1\n",
       "                   PHX     9         1\n",
       "YV                 IAH     9         1\n",
       "                   PHX     9         4\n",
       "                   SBA     9         1\n",
       "                   SBP     9         1\n",
       "                   TUS     9         1\n",
       "YX                 DCA     3         1\n",
       "dtype: int64"
      ]
     },
     "execution_count": 32,
     "metadata": {},
     "output_type": "execute_result"
    }
   ],
   "source": [
    "D_code.groupby(['OP_UNIQUE_CARRIER','ORIGIN','MONTH']).size()"
   ]
  }
 ],
 "metadata": {
  "kernelspec": {
   "display_name": "Python 3",
   "language": "python",
   "name": "python3"
  },
  "language_info": {
   "codemirror_mode": {
    "name": "ipython",
    "version": 3
   },
   "file_extension": ".py",
   "mimetype": "text/x-python",
   "name": "python",
   "nbconvert_exporter": "python",
   "pygments_lexer": "ipython3",
   "version": "3.6.5"
  }
 },
 "nbformat": 4,
 "nbformat_minor": 2
}
