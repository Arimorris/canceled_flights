{
 "cells": [
  {
   "cell_type": "code",
   "execution_count": 2,
   "metadata": {},
   "outputs": [],
   "source": [
    "import pandas as pd\n",
    "import numpy as np\n",
    "import os\n",
    "import math\n",
    "import matplotlib\n",
    "import matplotlib.pyplot as plt\n",
    "%matplotlib inline\n",
    "import seaborn as sns\n",
    "import pickle"
   ]
  },
  {
   "cell_type": "code",
   "execution_count": 83,
   "metadata": {},
   "outputs": [],
   "source": [
    "cwd = os.getcwd()\n",
    "cancel = pd.read_csv(cwd + '/cancel.csv')"
   ]
  },
  {
   "cell_type": "code",
   "execution_count": 4,
   "metadata": {},
   "outputs": [],
   "source": [
    "infile = open('yearly_flights.pickle', 'rb')\n",
    "yearly = pickle.load(infile)\n",
    "infile.close()"
   ]
  },
  {
   "cell_type": "markdown",
   "metadata": {},
   "source": [
    "\"A\" = \"Carrier\" <br> \n",
    "> The cause of the cancellation or delay was due to circumstances within the airline's control (e.g. maintenance or crew problems, etc.).<br>\n",
    "\n",
    "\"B\" = \"Weather\" <br> \n",
    "> Significant meteorological conditions (actual or forecasted) that, in the judgment of the carrier, delays or prevents the operation of a flight such as tornado, blizzard or hurricane.<br>\n",
    "\n",
    "\"C\" = \"National Air System\" <br>\n",
    "> Cancellations attributable to the national aviation system that refer to a broad set of conditions, such as non-extreme weather conditions, airport operations, heavy traffic volume, and air traffic control.<br>\n",
    "\n",
    "\"D\" = \"Security\" <br>\n",
    "> Cancellations caused by evacuation of a terminal or concourse, re-boarding of aircraft because of security breach, inoperative screening equipment and/or long lines in excess of 29 minutes at screening areas.<br>"
   ]
  },
  {
   "cell_type": "code",
   "execution_count": 84,
   "metadata": {},
   "outputs": [],
   "source": [
    "cancel['Freq'] = cancel.groupby(['ORIGIN'])['OP_UNIQUE_CARRIER'].transform('count')\n",
    "cancel = cancel[cancel['Freq'] > 10] \n",
    "#removed any airport used less than 10 times within the year\n",
    "# went from 110320 rows to 109983 rows"
   ]
  },
  {
   "cell_type": "code",
   "execution_count": 102,
   "metadata": {},
   "outputs": [],
   "source": [
    "A = cancel[cancel['CANCELLATION_CODE'] == 'A']\n",
    "B = cancel[cancel['CANCELLATION_CODE'] == 'B']\n",
    "C = cancel[cancel['CANCELLATION_CODE'] == 'C']\n",
    "D = cancel[cancel['CANCELLATION_CODE'] == 'D']"
   ]
  },
  {
   "cell_type": "markdown",
   "metadata": {},
   "source": [
    "## CODE: A"
   ]
  },
  {
   "cell_type": "code",
   "execution_count": 94,
   "metadata": {},
   "outputs": [],
   "source": [
    "# A has 28085 rows\n",
    "# 267 unique cities, 273 unique airports"
   ]
  },
  {
   "cell_type": "code",
   "execution_count": 5,
   "metadata": {},
   "outputs": [
    {
     "data": {
      "text/plain": [
       "N719EV    66\n",
       "N738EV    60\n",
       "N226JS    52\n",
       "N248PS    51\n",
       "N603QX    49\n",
       "N244PS    48\n",
       "N250PS    48\n",
       "N258PS    48\n",
       "N251PS    47\n",
       "N617QX    47\n",
       "N600QX    45\n",
       "N611QX    44\n",
       "N230PS    42\n",
       "N720EV    42\n",
       "N223JS    41\n",
       "Name: TAIL_NUM, dtype: int64"
      ]
     },
     "execution_count": 5,
     "metadata": {},
     "output_type": "execute_result"
    }
   ],
   "source": [
    "#certain planes that might be more prone to canceltaion\n",
    "A['TAIL_NUM'].value_counts()[:15]"
   ]
  },
  {
   "cell_type": "code",
   "execution_count": 11,
   "metadata": {},
   "outputs": [
    {
     "data": {
      "text/plain": [
       "WN    5372\n",
       "OH    4425\n",
       "AA    4176\n",
       "YV    2216\n",
       "YX    1663\n",
       "MQ    1519\n",
       "F9    1476\n",
       "B6    1377\n",
       "EV    1195\n",
       "AS     985\n",
       "UA     891\n",
       "OO     772\n",
       "DL     565\n",
       "G4     396\n",
       "NK     331\n",
       "9E     314\n",
       "HA     256\n",
       "VX     224\n",
       "Name: OP_UNIQUE_CARRIER, dtype: int64"
      ]
     },
     "execution_count": 11,
     "metadata": {},
     "output_type": "execute_result"
    }
   ],
   "source": [
    "A['OP_UNIQUE_CARRIER'].value_counts()"
   ]
  },
  {
   "cell_type": "code",
   "execution_count": 19,
   "metadata": {
    "scrolled": true
   },
   "outputs": [
    {
     "data": {
      "text/plain": [
       "6     5970\n",
       "7     3400\n",
       "8     3100\n",
       "3     2355\n",
       "1     2323\n",
       "5     2204\n",
       "9     1882\n",
       "4     1869\n",
       "2     1735\n",
       "10    1641\n",
       "12     997\n",
       "11     677\n",
       "Name: MONTH, dtype: int64"
      ]
     },
     "execution_count": 19,
     "metadata": {},
     "output_type": "execute_result"
    }
   ],
   "source": [
    "A['MONTH'].value_counts()"
   ]
  },
  {
   "cell_type": "code",
   "execution_count": 104,
   "metadata": {
    "scrolled": false
   },
   "outputs": [
    {
     "name": "stderr",
     "output_type": "stream",
     "text": [
      "/Users/arihorwitz/anaconda3/lib/python3.6/site-packages/ipykernel_launcher.py:1: SettingWithCopyWarning: \n",
      "A value is trying to be set on a copy of a slice from a DataFrame.\n",
      "Try using .loc[row_indexer,col_indexer] = value instead\n",
      "\n",
      "See the caveats in the documentation: http://pandas.pydata.org/pandas-docs/stable/indexing.html#indexing-view-versus-copy\n",
      "  \"\"\"Entry point for launching an IPython kernel.\n"
     ]
    }
   ],
   "source": [
    "A['Freq'] = A.groupby(['ORIGIN'])['OP_UNIQUE_CARRIER'].transform('count')\n",
    "A['Freq_month'] = A.groupby(['ORIGIN', 'MONTH'])['OP_UNIQUE_CARRIER'].transform('count')"
   ]
  },
  {
   "cell_type": "code",
   "execution_count": 127,
   "metadata": {},
   "outputs": [],
   "source": [
    "A100 = A[A['Freq'] > 100] "
   ]
  },
  {
   "cell_type": "code",
   "execution_count": 137,
   "metadata": {},
   "outputs": [],
   "source": [
    "Amo = A[A['Freq_month'] > 25]"
   ]
  },
  {
   "cell_type": "code",
   "execution_count": 121,
   "metadata": {
    "scrolled": true
   },
   "outputs": [
    {
     "data": {
      "text/plain": [
       "6     4459\n",
       "7     2841\n",
       "8     2636\n",
       "3     1964\n",
       "5     1848\n",
       "1     1780\n",
       "4     1594\n",
       "9     1515\n",
       "2     1366\n",
       "10    1266\n",
       "12     849\n",
       "11     563\n",
       "Name: MONTH, dtype: int64"
      ]
     },
     "execution_count": 121,
     "metadata": {},
     "output_type": "execute_result"
    }
   ],
   "source": [
    "A100['MONTH'].value_counts()"
   ]
  },
  {
   "cell_type": "code",
   "execution_count": 161,
   "metadata": {
    "scrolled": true
   },
   "outputs": [],
   "source": [
    "# J = A100.groupby(['OP_UNIQUE_CARRIER', 'ORIGIN'])['MONTH'].count()\n",
    "J = A100.groupby(['OP_UNIQUE_CARRIER', 'ORIGIN']).size()"
   ]
  },
  {
   "cell_type": "code",
   "execution_count": 190,
   "metadata": {},
   "outputs": [],
   "source": [
    "airline = A100['OP_UNIQUE_CARRIER'].unique()\n",
    "airport = A100['ORIGIN'].unique()\n",
    "month = A100['MONTH'].unique()"
   ]
  },
  {
   "cell_type": "code",
   "execution_count": 211,
   "metadata": {
    "scrolled": true
   },
   "outputs": [],
   "source": [
    "combo = []\n",
    "for l in airline:\n",
    "    for a in airport:\n",
    "        if a in J[l]:\n",
    "            if J[l][a] > 100:\n",
    "                combo.append([J[l][a], l, a])\n",
    "                        "
   ]
  },
  {
   "cell_type": "code",
   "execution_count": 226,
   "metadata": {},
   "outputs": [],
   "source": [
    "worst_line_port = sorted(combo, reverse=True)"
   ]
  },
  {
   "cell_type": "code",
   "execution_count": 263,
   "metadata": {},
   "outputs": [
    {
     "data": {
      "text/plain": [
       "50"
      ]
     },
     "execution_count": 263,
     "metadata": {},
     "output_type": "execute_result"
    }
   ],
   "source": [
    "len(worst_line_port)"
   ]
  },
  {
   "cell_type": "code",
   "execution_count": 228,
   "metadata": {},
   "outputs": [
    {
     "data": {
      "text/plain": [
       "[[1363, 'OH', 'CLT'],\n",
       " [572, 'WN', 'LAX'],\n",
       " [498, 'AA', 'DFW'],\n",
       " [495, 'YV', 'DFW'],\n",
       " [434, 'WN', 'OAK']]"
      ]
     },
     "execution_count": 228,
     "metadata": {},
     "output_type": "execute_result"
    }
   ],
   "source": [
    "worst_line_port[:5] "
   ]
  },
  {
   "cell_type": "code",
   "execution_count": 218,
   "metadata": {},
   "outputs": [],
   "source": [
    "M = A100.groupby(['OP_UNIQUE_CARRIER', 'ORIGIN', 'MONTH']).size()"
   ]
  },
  {
   "cell_type": "code",
   "execution_count": 246,
   "metadata": {},
   "outputs": [],
   "source": [
    "trio = []\n",
    "for l in airline:\n",
    "    for a in airport:\n",
    "        if a in M[l]:\n",
    "            for m in range(1,12):\n",
    "                if m in M[l][a]:\n",
    "                    if M[l][a][m] > 50:\n",
    "                        trio.append([M[l][a][m], l, a, m])"
   ]
  },
  {
   "cell_type": "code",
   "execution_count": 250,
   "metadata": {},
   "outputs": [],
   "source": [
    "worst_line_port_month = sorted(trio, reverse=True)"
   ]
  },
  {
   "cell_type": "code",
   "execution_count": 252,
   "metadata": {},
   "outputs": [
    {
     "data": {
      "text/plain": [
       "[[1161, 'OH', 'CLT', 6],\n",
       " [180, 'OH', 'DCA', 6],\n",
       " [147, 'AA', 'DFW', 6],\n",
       " [131, 'OH', 'PHL', 6],\n",
       " [113, 'YX', 'LGA', 3]]"
      ]
     },
     "execution_count": 252,
     "metadata": {},
     "output_type": "execute_result"
    }
   ],
   "source": [
    "worst_line_port_month[:5] "
   ]
  },
  {
   "cell_type": "code",
   "execution_count": null,
   "metadata": {},
   "outputs": [],
   "source": [
    "# giant glitch with copmuter sytem and PAS airlines ('OH') in Charlotte skewed a lot of dat for cancellation"
   ]
  },
  {
   "cell_type": "code",
   "execution_count": 255,
   "metadata": {},
   "outputs": [],
   "source": [
    "K = A.groupby(['OP_UNIQUE_CARRIER', 'ORIGIN']).size()"
   ]
  },
  {
   "cell_type": "code",
   "execution_count": 261,
   "metadata": {},
   "outputs": [],
   "source": [
    "airline = A['OP_UNIQUE_CARRIER'].unique()\n",
    "airport = A['ORIGIN'].unique()\n",
    "month = A['MONTH'].unique()\n",
    "\n",
    "acombo = []\n",
    "for l in airline:\n",
    "    for a in airport:\n",
    "        if a in K[l]:\n",
    "            if K[l][a] > 100:\n",
    "                acombo.append([J[l][a], l, a])"
   ]
  },
  {
   "cell_type": "code",
   "execution_count": 262,
   "metadata": {},
   "outputs": [
    {
     "data": {
      "text/plain": [
       "50"
      ]
     },
     "execution_count": 262,
     "metadata": {},
     "output_type": "execute_result"
    }
   ],
   "source": [
    "len(acombo)"
   ]
  },
  {
   "cell_type": "code",
   "execution_count": 259,
   "metadata": {},
   "outputs": [
    {
     "data": {
      "text/plain": [
       "1419"
      ]
     },
     "execution_count": 259,
     "metadata": {},
     "output_type": "execute_result"
    }
   ],
   "source": [
    "len(K)"
   ]
  },
  {
   "cell_type": "markdown",
   "metadata": {},
   "source": [
    "## CODE: B"
   ]
  },
  {
   "cell_type": "code",
   "execution_count": null,
   "metadata": {},
   "outputs": [],
   "source": []
  },
  {
   "cell_type": "markdown",
   "metadata": {},
   "source": [
    "## CODE: C"
   ]
  },
  {
   "cell_type": "code",
   "execution_count": null,
   "metadata": {},
   "outputs": [],
   "source": []
  },
  {
   "cell_type": "markdown",
   "metadata": {},
   "source": [
    "## CODE: D"
   ]
  },
  {
   "cell_type": "code",
   "execution_count": null,
   "metadata": {},
   "outputs": [],
   "source": []
  }
 ],
 "metadata": {
  "kernelspec": {
   "display_name": "Python 3",
   "language": "python",
   "name": "python3"
  }
 },
 "nbformat": 4,
 "nbformat_minor": 2
}
