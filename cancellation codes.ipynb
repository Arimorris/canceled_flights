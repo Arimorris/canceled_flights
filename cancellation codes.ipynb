{
 "cells": [
  {
   "cell_type": "code",
   "execution_count": 1,
   "metadata": {},
   "outputs": [],
   "source": [
    "import pandas as pd\n",
    "import numpy as np\n",
    "import os\n",
    "import pickle"
   ]
  },
  {
   "cell_type": "code",
   "execution_count": 2,
   "metadata": {},
   "outputs": [],
   "source": [
    "cwd = os.getcwd()\n",
    "cancel = pd.read_csv(cwd + '/cancel.csv')"
   ]
  },
  {
   "cell_type": "markdown",
   "metadata": {},
   "source": [
    "\"A\" = \"Carrier\" <br> \n",
    "> The cause of the cancellation or delay was due to circumstances within the airline's control (e.g. maintenance or crew problems, etc.).<br>\n",
    "\n",
    "\"B\" = \"Weather\" <br> \n",
    "> Significant meteorological conditions (actual or forecasted) that, in the judgment of the carrier, delays or prevents the operation of a flight such as tornado, blizzard or hurricane.<br>\n",
    "\n",
    "\"C\" = \"National Air System\" <br>\n",
    "> Cancellations attributable to the national aviation system that refer to a broad set of conditions, such as non-extreme weather conditions, airport operations, heavy traffic volume, and air traffic control.<br>\n",
    "\n",
    "\"D\" = \"Security\" <br>\n",
    "> Cancellations caused by evacuation of a terminal or concourse, re-boarding of aircraft because of security breach, inoperative screening equipment and/or long lines in excess of 29 minutes at screening areas.<br>"
   ]
  },
  {
   "cell_type": "code",
   "execution_count": 3,
   "metadata": {},
   "outputs": [],
   "source": [
    "# cancel['Freq'] = cancel.groupby(['ORIGIN'])['OP_UNIQUE_CARRIER'].transform('count')"
   ]
  },
  {
   "cell_type": "code",
   "execution_count": 3,
   "metadata": {},
   "outputs": [],
   "source": [
    "D = cancel[cancel['CANCELLATION_CODE'] == 'D']\n",
    "\n",
    "# cancel = cancel[cancel['Freq'] > 10] \n",
    "#removed any airport used less than 10 times within the year\n",
    "# excpet for D bec so few security problems\n",
    "# went from 110320 rows to 109983 rows\n",
    "A = cancel[cancel['CANCELLATION_CODE'] == 'A']\n",
    "B = cancel[cancel['CANCELLATION_CODE'] == 'B']\n",
    "C = cancel[cancel['CANCELLATION_CODE'] == 'C']"
   ]
  },
  {
   "cell_type": "markdown",
   "metadata": {},
   "source": [
    "## CODE: A (Carrier)"
   ]
  },
  {
   "cell_type": "code",
   "execution_count": 94,
   "metadata": {},
   "outputs": [],
   "source": [
    "# A has 28085 rows\n",
    "# 273 unique airports"
   ]
  },
  {
   "cell_type": "code",
   "execution_count": 5,
   "metadata": {},
   "outputs": [
    {
     "data": {
      "text/plain": [
       "N719EV    66\n",
       "N738EV    60\n",
       "N226JS    52\n",
       "N248PS    51\n",
       "N603QX    49\n",
       "N244PS    48\n",
       "N250PS    48\n",
       "N258PS    48\n",
       "N251PS    47\n",
       "N617QX    47\n",
       "N600QX    45\n",
       "N611QX    44\n",
       "N230PS    42\n",
       "N720EV    42\n",
       "N223JS    41\n",
       "Name: TAIL_NUM, dtype: int64"
      ]
     },
     "execution_count": 5,
     "metadata": {},
     "output_type": "execute_result"
    }
   ],
   "source": [
    "#certain planes that might be more prone to canceltaion\n",
    "A['TAIL_NUM'].value_counts()[:15]"
   ]
  },
  {
   "cell_type": "code",
   "execution_count": 11,
   "metadata": {},
   "outputs": [
    {
     "data": {
      "text/plain": [
       "WN    5372\n",
       "OH    4425\n",
       "AA    4176\n",
       "YV    2216\n",
       "YX    1663\n",
       "MQ    1519\n",
       "F9    1476\n",
       "B6    1377\n",
       "EV    1195\n",
       "AS     985\n",
       "UA     891\n",
       "OO     772\n",
       "DL     565\n",
       "G4     396\n",
       "NK     331\n",
       "9E     314\n",
       "HA     256\n",
       "VX     224\n",
       "Name: OP_UNIQUE_CARRIER, dtype: int64"
      ]
     },
     "execution_count": 11,
     "metadata": {},
     "output_type": "execute_result"
    }
   ],
   "source": [
    "A['OP_UNIQUE_CARRIER'].value_counts()"
   ]
  },
  {
   "cell_type": "code",
   "execution_count": 9,
   "metadata": {
    "scrolled": true
   },
   "outputs": [
    {
     "data": {
      "text/plain": [
       "6     5959\n",
       "7     3391\n",
       "8     3094\n",
       "3     2348\n",
       "1     2318\n",
       "5     2201\n",
       "9     1881\n",
       "4     1867\n",
       "2     1726\n",
       "10    1638\n",
       "12     990\n",
       "11     672\n",
       "Name: MONTH, dtype: int64"
      ]
     },
     "execution_count": 9,
     "metadata": {},
     "output_type": "execute_result"
    }
   ],
   "source": [
    "A['MONTH'].value_counts()"
   ]
  },
  {
   "cell_type": "code",
   "execution_count": 15,
   "metadata": {
    "scrolled": true
   },
   "outputs": [
    {
     "data": {
      "text/plain": [
       "CLT    1939\n",
       "DFW    1406\n",
       "LAX    1034\n",
       "LGA     975\n",
       "ORD     815\n",
       "Name: ORIGIN, dtype: int64"
      ]
     },
     "execution_count": 15,
     "metadata": {},
     "output_type": "execute_result"
    }
   ],
   "source": [
    "A['ORIGIN'].value_counts()[:5]"
   ]
  },
  {
   "cell_type": "code",
   "execution_count": 16,
   "metadata": {
    "scrolled": true
   },
   "outputs": [
    {
     "data": {
      "text/plain": [
       "CLT    2388\n",
       "DFW    1740\n",
       "LAX    1068\n",
       "ORD    1025\n",
       "LGA    1008\n",
       "Name: DEST, dtype: int64"
      ]
     },
     "execution_count": 16,
     "metadata": {},
     "output_type": "execute_result"
    }
   ],
   "source": [
    "A['DEST'].value_counts()[:5]"
   ]
  },
  {
   "cell_type": "code",
   "execution_count": 4,
   "metadata": {},
   "outputs": [],
   "source": [
    "# get frequency of canceled airline and airport combo\n",
    "J = A.groupby(['OP_UNIQUE_CARRIER', 'ORIGIN']).size()\n",
    "aline = A['OP_UNIQUE_CARRIER'].unique()\n",
    "aport = A['ORIGIN'].unique()\n",
    "amonth = A['MONTH'].unique()"
   ]
  },
  {
   "cell_type": "code",
   "execution_count": 6,
   "metadata": {},
   "outputs": [],
   "source": [
    "a_combo = []\n",
    "for l in aline:\n",
    "    for a in aport:\n",
    "        if a in J[l]:\n",
    "            if J[l][a] > 100:\n",
    "                a_combo.append([J[l][a], l, a])"
   ]
  },
  {
   "cell_type": "code",
   "execution_count": 15,
   "metadata": {},
   "outputs": [],
   "source": [
    "worst_a_line_port = sorted(a_combo, reverse=True)"
   ]
  },
  {
   "cell_type": "code",
   "execution_count": 16,
   "metadata": {},
   "outputs": [
    {
     "data": {
      "text/plain": [
       "[[1363, 'OH', 'CLT'],\n",
       " [572, 'WN', 'LAX'],\n",
       " [498, 'AA', 'DFW'],\n",
       " [495, 'YV', 'DFW'],\n",
       " [434, 'WN', 'OAK']]"
      ]
     },
     "execution_count": 16,
     "metadata": {},
     "output_type": "execute_result"
    }
   ],
   "source": [
    "worst_a_line_port[:5] "
   ]
  },
  {
   "cell_type": "code",
   "execution_count": 17,
   "metadata": {},
   "outputs": [],
   "source": [
    "# get frequency of canceled airline, airport and month combo\n",
    "M = A.groupby(['OP_UNIQUE_CARRIER', 'ORIGIN', 'MONTH']).size()"
   ]
  },
  {
   "cell_type": "code",
   "execution_count": 18,
   "metadata": {},
   "outputs": [],
   "source": [
    "a_trio = []\n",
    "for l in aline:\n",
    "    for a in aport:\n",
    "        if a in M[l]:\n",
    "            for m in range(1,12):\n",
    "                if m in M[l][a]:\n",
    "                    if M[l][a][m] > 50:\n",
    "                        a_trio.append([M[l][a][m], l, a, m])"
   ]
  },
  {
   "cell_type": "code",
   "execution_count": 19,
   "metadata": {},
   "outputs": [],
   "source": [
    "worst_a_line_port_month = sorted(a_trio, reverse=True)"
   ]
  },
  {
   "cell_type": "code",
   "execution_count": 21,
   "metadata": {},
   "outputs": [
    {
     "data": {
      "text/plain": [
       "[[1161, 'OH', 'CLT', 6],\n",
       " [180, 'OH', 'DCA', 6],\n",
       " [147, 'AA', 'DFW', 6],\n",
       " [131, 'OH', 'PHL', 6],\n",
       " [113, 'YX', 'LGA', 3]]"
      ]
     },
     "execution_count": 21,
     "metadata": {},
     "output_type": "execute_result"
    }
   ],
   "source": [
    "worst_a_line_port_month[:5] "
   ]
  },
  {
   "cell_type": "code",
   "execution_count": null,
   "metadata": {},
   "outputs": [],
   "source": [
    "# giant glitch with computer sytem and PSA airlines ('OH') during June\n",
    "# mainly in Charlotte, this skewed a lot of data for cancellation"
   ]
  },
  {
   "cell_type": "markdown",
   "metadata": {},
   "source": [
    "## CODE: B (Weather)"
   ]
  },
  {
   "cell_type": "code",
   "execution_count": null,
   "metadata": {},
   "outputs": [],
   "source": [
    "# 57756\n",
    "# 338 airports from"
   ]
  },
  {
   "cell_type": "code",
   "execution_count": 41,
   "metadata": {},
   "outputs": [
    {
     "data": {
      "text/plain": [
       "0.673142184361798"
      ]
     },
     "execution_count": 41,
     "metadata": {},
     "output_type": "execute_result"
    }
   ],
   "source": [
    "38878/57756"
   ]
  },
  {
   "cell_type": "code",
   "execution_count": 39,
   "metadata": {},
   "outputs": [
    {
     "data": {
      "text/plain": [
       "3     13566\n",
       "1     12656\n",
       "2      5753\n",
       "9      4609\n",
       "7      3479\n",
       "4      3233\n",
       "5      3217\n",
       "8      3159\n",
       "12     2947\n",
       "6      2486\n",
       "10     2147\n",
       "11      504\n",
       "Name: MONTH, dtype: int64"
      ]
     },
     "execution_count": 39,
     "metadata": {},
     "output_type": "execute_result"
    }
   ],
   "source": [
    "B['MONTH'].value_counts()\n",
    "# About 67% of weather cancellations happened within the first three months of the year\n",
    "# showing winter is the strongest factor for these cancellations"
   ]
  },
  {
   "cell_type": "code",
   "execution_count": 37,
   "metadata": {},
   "outputs": [
    {
     "data": {
      "text/plain": [
       "WN    9774\n",
       "AA    8535\n",
       "OO    7760\n",
       "OH    5362\n",
       "YX    4813\n",
       "DL    3864\n",
       "B6    3601\n",
       "UA    3265\n",
       "MQ    2204\n",
       "YV    2105\n",
       "9E    2009\n",
       "EV    1389\n",
       "NK    1289\n",
       "F9     752\n",
       "AS     576\n",
       "G4     243\n",
       "VX     201\n",
       "HA      14\n",
       "Name: OP_UNIQUE_CARRIER, dtype: int64"
      ]
     },
     "execution_count": 37,
     "metadata": {},
     "output_type": "execute_result"
    }
   ],
   "source": [
    "B['OP_UNIQUE_CARRIER'].value_counts()"
   ]
  },
  {
   "cell_type": "code",
   "execution_count": 9,
   "metadata": {
    "scrolled": true
   },
   "outputs": [
    {
     "data": {
      "text/plain": [
       "ORD    3295\n",
       "LGA    3029\n",
       "CLT    2869\n",
       "DFW    2592\n",
       "BOS    2393\n",
       "ATL    2327\n",
       "EWR    2181\n",
       "DCA    2046\n",
       "PHL    1857\n",
       "MDW    1558\n",
       "Name: ORIGIN, dtype: int64"
      ]
     },
     "execution_count": 9,
     "metadata": {},
     "output_type": "execute_result"
    }
   ],
   "source": [
    "B['ORIGIN'].value_counts()[:10]"
   ]
  },
  {
   "cell_type": "code",
   "execution_count": 12,
   "metadata": {},
   "outputs": [
    {
     "data": {
      "text/plain": [
       "ORD    3442\n",
       "CLT    2963\n",
       "LGA    2929\n",
       "DFW    2661\n",
       "ATL    2400\n",
       "BOS    2345\n",
       "EWR    2211\n",
       "DCA    1961\n",
       "PHL    1857\n",
       "JFK    1535\n",
       "Name: DEST, dtype: int64"
      ]
     },
     "execution_count": 12,
     "metadata": {},
     "output_type": "execute_result"
    }
   ],
   "source": [
    "B['DEST'].value_counts()[:10]"
   ]
  },
  {
   "cell_type": "code",
   "execution_count": 11,
   "metadata": {},
   "outputs": [
    {
     "data": {
      "text/plain": [
       "Chicago, IL              4853\n",
       "New York, NY             4548\n",
       "Charlotte, NC            2869\n",
       "Dallas/Fort Worth, TX    2592\n",
       "Washington, DC           2535\n",
       "Boston, MA               2393\n",
       "Atlanta, GA              2327\n",
       "Newark, NJ               2181\n",
       "Philadelphia, PA         1857\n",
       "Minneapolis, MN          1312\n",
       "Name: ORIGIN_CITY_NAME, dtype: int64"
      ]
     },
     "execution_count": 11,
     "metadata": {},
     "output_type": "execute_result"
    }
   ],
   "source": [
    "B['ORIGIN_CITY_NAME'].value_counts()[:10]"
   ]
  },
  {
   "cell_type": "code",
   "execution_count": 31,
   "metadata": {
    "scrolled": true
   },
   "outputs": [
    {
     "data": {
      "text/plain": [
       "Chicago, IL              4971\n",
       "New York, NY             4464\n",
       "Charlotte, NC            2963\n",
       "Dallas/Fort Worth, TX    2661\n",
       "Washington, DC           2457\n",
       "Atlanta, GA              2400\n",
       "Boston, MA               2345\n",
       "Newark, NJ               2211\n",
       "Philadelphia, PA         1857\n",
       "Houston, TX              1360\n",
       "Name: DEST_CITY_NAME, dtype: int64"
      ]
     },
     "execution_count": 31,
     "metadata": {},
     "output_type": "execute_result"
    }
   ],
   "source": [
    "B['DEST_CITY_NAME'].value_counts()[:10]"
   ]
  },
  {
   "cell_type": "code",
   "execution_count": 43,
   "metadata": {},
   "outputs": [],
   "source": [
    "not_cold = B[(B['ORIGIN_CITY_NAME'] != 'Chicago, IL') &(B['ORIGIN_CITY_NAME'] != 'New York, NY')\\\n",
    "             & (B['DEST_CITY_NAME'] !='Chicago, IL')&(B['DEST_CITY_NAME'] !='New York, NY')]"
   ]
  },
  {
   "cell_type": "code",
   "execution_count": 75,
   "metadata": {},
   "outputs": [],
   "source": [
    "city = B.reindex(columns= (['ORIGIN_CITY_NAME', 'DEST_CITY_NAME']))"
   ]
  },
  {
   "cell_type": "code",
   "execution_count": 85,
   "metadata": {},
   "outputs": [
    {
     "data": {
      "text/plain": [
       "Chicago, IL              9824\n",
       "New York, NY             9012\n",
       "Charlotte, NC            5832\n",
       "Dallas/Fort Worth, TX    5253\n",
       "Washington, DC           4992\n",
       "Boston, MA               4738\n",
       "Atlanta, GA              4727\n",
       "Newark, NJ               4392\n",
       "Philadelphia, PA         3714\n",
       "Houston, TX              2663\n",
       "Name: value, dtype: int64"
      ]
     },
     "execution_count": 85,
     "metadata": {},
     "output_type": "execute_result"
    }
   ],
   "source": [
    "city.melt()['value'].value_counts()[:10]"
   ]
  },
  {
   "cell_type": "code",
   "execution_count": null,
   "metadata": {},
   "outputs": [],
   "source": [
    "# 31% of cancellations involved Chicago or New York"
   ]
  },
  {
   "cell_type": "code",
   "execution_count": 86,
   "metadata": {},
   "outputs": [
    {
     "data": {
      "text/plain": [
       "ORIGIN_CITY_NAME  DEST_CITY_NAME         MONTH\n",
       "Abilene, TX       Dallas/Fort Worth, TX  1         1\n",
       "                                         2         1\n",
       "                                         5         1\n",
       "                                         6         1\n",
       "                                         8         2\n",
       "Aguadilla, PR     Fort Lauderdale, FL    3         1\n",
       "                  New York, NY           1         1\n",
       "                                         7         1\n",
       "                  Orlando, FL            7         1\n",
       "Akron, OH         Charlotte, NC          1         1\n",
       "                                         2         1\n",
       "                                         3         1\n",
       "                                         4         2\n",
       "                                         5         1\n",
       "                                         6        16\n",
       "                                         7         4\n",
       "                                         8         1\n",
       "                                         9         1\n",
       "                  Chicago, IL            10        1\n",
       "                  Detroit, MI            8         1\n",
       "                  Houston, TX            8         1\n",
       "                  New York, NY           1         2\n",
       "                                         2         1\n",
       "                                         4         1\n",
       "                                         6         3\n",
       "                  Orlando, FL            3         1\n",
       "                  Philadelphia, PA       2         2\n",
       "                                         5         1\n",
       "                                         6         6\n",
       "                                         7         1\n",
       "                                                  ..\n",
       "Wilmington, NC    Charlotte, NC          8         1\n",
       "                                         9         2\n",
       "                  Dallas/Fort Worth, TX  1         2\n",
       "                  New York, NY           5         3\n",
       "                                         7         1\n",
       "                  Philadelphia, PA       1         1\n",
       "                                         6         3\n",
       "                                         7         1\n",
       "                  Washington, DC         4         1\n",
       "                                         6         2\n",
       "Worcester, MA     Fort Lauderdale, FL    5         1\n",
       "                                         6         1\n",
       "                                         7         2\n",
       "                                         9         1\n",
       "                  New York, NY           5         3\n",
       "                                         6         1\n",
       "                                         8         1\n",
       "                  Orlando, FL            1         1\n",
       "                                         4         1\n",
       "                                         6         1\n",
       "                                         8         2\n",
       "                                         10        1\n",
       "Wrangell, AK      Ketchikan, AK          8         1\n",
       "                                         11        2\n",
       "                  Petersburg, AK         1         1\n",
       "                                         2         1\n",
       "                                         12        1\n",
       "Yakutat, AK       Cordova, AK            11        1\n",
       "                  Juneau, AK             3         1\n",
       "                                         12        1\n",
       "Length: 12514, dtype: int64"
      ]
     },
     "execution_count": 86,
     "metadata": {},
     "output_type": "execute_result"
    }
   ],
   "source": [
    "A.groupby(['ORIGIN_CITY_NAME', 'DEST_CITY_NAME', 'MONTH']).size()"
   ]
  },
  {
   "cell_type": "code",
   "execution_count": null,
   "metadata": {},
   "outputs": [],
   "source": []
  },
  {
   "cell_type": "markdown",
   "metadata": {},
   "source": [
    "## CODE: C"
   ]
  },
  {
   "cell_type": "code",
   "execution_count": null,
   "metadata": {},
   "outputs": [],
   "source": []
  },
  {
   "cell_type": "markdown",
   "metadata": {},
   "source": [
    "## CODE: D"
   ]
  },
  {
   "cell_type": "code",
   "execution_count": 28,
   "metadata": {},
   "outputs": [
    {
     "data": {
      "text/plain": [
       "73"
      ]
     },
     "execution_count": 28,
     "metadata": {},
     "output_type": "execute_result"
    }
   ],
   "source": [
    "len(D)"
   ]
  },
  {
   "cell_type": "code",
   "execution_count": null,
   "metadata": {},
   "outputs": [],
   "source": []
  }
 ],
 "metadata": {
  "kernelspec": {
   "display_name": "Python 3",
   "language": "python",
   "name": "python3"
  },
  "language_info": {
   "codemirror_mode": {
    "name": "ipython",
    "version": 3
   },
   "file_extension": ".py",
   "mimetype": "text/x-python",
   "name": "python",
   "nbconvert_exporter": "python",
   "pygments_lexer": "ipython3",
   "version": "3.6.5"
  }
 },
 "nbformat": 4,
 "nbformat_minor": 2
}
